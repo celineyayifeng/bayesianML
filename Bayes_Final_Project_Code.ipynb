{
  "nbformat": 4,
  "nbformat_minor": 0,
  "metadata": {
    "colab": {
      "name": "Bayes Final Project Code",
      "provenance": [],
      "collapsed_sections": [],
      "include_colab_link": true
    },
    "kernelspec": {
      "name": "python3",
      "display_name": "Python 3"
    },
    "language_info": {
      "name": "python"
    },
    "accelerator": "TPU"
  },
  "cells": [
    {
      "cell_type": "markdown",
      "metadata": {
        "id": "view-in-github",
        "colab_type": "text"
      },
      "source": [
        "<a href=\"https://colab.research.google.com/github/celineyayifeng/bayesianML/blob/main/Bayes_Final_Project_Code.ipynb\" target=\"_parent\"><img src=\"https://colab.research.google.com/assets/colab-badge.svg\" alt=\"Open In Colab\"/></a>"
      ]
    },
    {
      "cell_type": "markdown",
      "source": [
        "#**Bayesian Machine Learning Final Project**"
      ],
      "metadata": {
        "id": "YA6Q4bPpCcBn"
      }
    },
    {
      "cell_type": "markdown",
      "source": [
        "### Hannah Lee, David Chen, Yayi Feng"
      ],
      "metadata": {
        "id": "hrCGNAu_CkAZ"
      }
    },
    {
      "cell_type": "code",
      "metadata": {
        "id": "nBIEi878cr3R"
      },
      "source": [
        "import numpy as np\n",
        "import pandas as pd\n",
        "import pymc3 as pm\n",
        "import scipy.stats as st\n",
        "from pymc3 import Model, sample, Normal, HalfCauchy, Uniform, model_to_graphviz\n",
        "import arviz as az\n",
        "import matplotlib.pyplot as plt\n",
        "import seaborn as sns\n",
        "import sklearn\n",
        "import sklearn.model_selection\n",
        "from sklearn.model_selection import train_test_split"
      ],
      "execution_count": null,
      "outputs": []
    },
    {
      "cell_type": "markdown",
      "source": [
        "## **Data Cleaning**"
      ],
      "metadata": {
        "id": "7chgDS8fCsUC"
      }
    },
    {
      "cell_type": "code",
      "metadata": {
        "colab": {
          "resources": {
            "http://localhost:8080/nbextensions/google.colab/files.js": {
              "data": "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",
              "ok": true,
              "headers": [
                [
                  "content-type",
                  "application/javascript"
                ]
              ],
              "status": 200,
              "status_text": ""
            }
          },
          "base_uri": "https://localhost:8080/",
          "height": 73
        },
        "id": "XAOTloXyc6yP",
        "outputId": "f2e8ec92-1256-487a-8c9d-241a7c8f3482"
      },
      "source": [
        "from google.colab import files\n",
        "uploaded = files.upload()"
      ],
      "execution_count": null,
      "outputs": [
        {
          "output_type": "display_data",
          "data": {
            "text/html": [
              "\n",
              "     <input type=\"file\" id=\"files-267d874e-ccee-4be6-81e3-043d59b867f1\" name=\"files[]\" multiple disabled\n",
              "        style=\"border:none\" />\n",
              "     <output id=\"result-267d874e-ccee-4be6-81e3-043d59b867f1\">\n",
              "      Upload widget is only available when the cell has been executed in the\n",
              "      current browser session. Please rerun this cell to enable.\n",
              "      </output>\n",
              "      <script src=\"/nbextensions/google.colab/files.js\"></script> "
            ],
            "text/plain": [
              "<IPython.core.display.HTML object>"
            ]
          },
          "metadata": {}
        },
        {
          "output_type": "stream",
          "name": "stdout",
          "text": [
            "Saving data.csv to data (1).csv\n"
          ]
        }
      ]
    },
    {
      "cell_type": "code",
      "metadata": {
        "id": "_Zuyb-T4dPRy"
      },
      "source": [
        "data=pd.read_csv('data.csv')"
      ],
      "execution_count": null,
      "outputs": []
    },
    {
      "cell_type": "code",
      "metadata": {
        "colab": {
          "base_uri": "https://localhost:8080/"
        },
        "id": "QNj1GSvudVG5",
        "outputId": "f4267fa4-cbf3-40d0-ee59-578fbea9f259"
      },
      "source": [
        "data.columns"
      ],
      "execution_count": null,
      "outputs": [
        {
          "output_type": "execute_result",
          "data": {
            "text/plain": [
              "Index(['id', 'diagnosis', 'radius_mean', 'texture_mean', 'perimeter_mean',\n",
              "       'area_mean', 'smoothness_mean', 'compactness_mean', 'concavity_mean',\n",
              "       'concave points_mean', 'symmetry_mean', 'fractal_dimension_mean',\n",
              "       'radius_se', 'texture_se', 'perimeter_se', 'area_se', 'smoothness_se',\n",
              "       'compactness_se', 'concavity_se', 'concave points_se', 'symmetry_se',\n",
              "       'fractal_dimension_se', 'radius_worst', 'texture_worst',\n",
              "       'perimeter_worst', 'area_worst', 'smoothness_worst',\n",
              "       'compactness_worst', 'concavity_worst', 'concave points_worst',\n",
              "       'symmetry_worst', 'fractal_dimension_worst', 'Unnamed: 32'],\n",
              "      dtype='object')"
            ]
          },
          "metadata": {},
          "execution_count": 6
        }
      ]
    },
    {
      "cell_type": "code",
      "metadata": {
        "id": "p5RxrgLVgim3"
      },
      "source": [
        "data.drop('Unnamed: 32', axis=1, inplace=True)"
      ],
      "execution_count": null,
      "outputs": []
    },
    {
      "cell_type": "code",
      "metadata": {
        "id": "N0cM7iGLg8LN"
      },
      "source": [
        "data.drop('id', axis=1, inplace=True)"
      ],
      "execution_count": null,
      "outputs": []
    },
    {
      "cell_type": "code",
      "metadata": {
        "id": "2t5QCe7Rg_Gs"
      },
      "source": [
        "numerical_data = data.drop('diagnosis', axis=1)"
      ],
      "execution_count": null,
      "outputs": []
    },
    {
      "cell_type": "markdown",
      "source": [
        "### Scaling data"
      ],
      "metadata": {
        "id": "i6vs7WesCxAa"
      }
    },
    {
      "cell_type": "code",
      "metadata": {
        "id": "MvFnLxeLhGHb"
      },
      "source": [
        "from sklearn import preprocessing\n",
        "cols = numerical_data.columns\n",
        "np_numerical_data = np.asarray(numerical_data)\n",
        "scaler = preprocessing.StandardScaler().fit(np_numerical_data)"
      ],
      "execution_count": null,
      "outputs": []
    },
    {
      "cell_type": "code",
      "metadata": {
        "id": "pZScCkZbikUZ"
      },
      "source": [
        "scaled = scaler.transform(np_numerical_data)"
      ],
      "execution_count": null,
      "outputs": []
    },
    {
      "cell_type": "code",
      "metadata": {
        "id": "cVBuIVgtjckT"
      },
      "source": [
        "cancer = pd.DataFrame(scaled, columns = cols)"
      ],
      "execution_count": null,
      "outputs": []
    },
    {
      "cell_type": "code",
      "metadata": {
        "id": "8EwTRPYIkOh6"
      },
      "source": [
        "diag = (np.asarray(data['diagnosis']) == 'M').astype(int)"
      ],
      "execution_count": null,
      "outputs": []
    },
    {
      "cell_type": "code",
      "metadata": {
        "id": "HpWDHXTulEgW"
      },
      "source": [
        "cancer['diagnosis'] = diag"
      ],
      "execution_count": null,
      "outputs": []
    },
    {
      "cell_type": "code",
      "metadata": {
        "colab": {
          "base_uri": "https://localhost:8080/",
          "height": 244
        },
        "id": "vg-kQ4GOlFLa",
        "outputId": "1cb49d9a-ec31-4c01-f900-383373f9daea"
      },
      "source": [
        "cancer.head()"
      ],
      "execution_count": null,
      "outputs": [
        {
          "output_type": "execute_result",
          "data": {
            "text/html": [
              "<div>\n",
              "<style scoped>\n",
              "    .dataframe tbody tr th:only-of-type {\n",
              "        vertical-align: middle;\n",
              "    }\n",
              "\n",
              "    .dataframe tbody tr th {\n",
              "        vertical-align: top;\n",
              "    }\n",
              "\n",
              "    .dataframe thead th {\n",
              "        text-align: right;\n",
              "    }\n",
              "</style>\n",
              "<table border=\"1\" class=\"dataframe\">\n",
              "  <thead>\n",
              "    <tr style=\"text-align: right;\">\n",
              "      <th></th>\n",
              "      <th>radius_mean</th>\n",
              "      <th>texture_mean</th>\n",
              "      <th>perimeter_mean</th>\n",
              "      <th>area_mean</th>\n",
              "      <th>smoothness_mean</th>\n",
              "      <th>compactness_mean</th>\n",
              "      <th>concavity_mean</th>\n",
              "      <th>concave points_mean</th>\n",
              "      <th>symmetry_mean</th>\n",
              "      <th>fractal_dimension_mean</th>\n",
              "      <th>radius_se</th>\n",
              "      <th>texture_se</th>\n",
              "      <th>perimeter_se</th>\n",
              "      <th>area_se</th>\n",
              "      <th>smoothness_se</th>\n",
              "      <th>compactness_se</th>\n",
              "      <th>concavity_se</th>\n",
              "      <th>concave points_se</th>\n",
              "      <th>symmetry_se</th>\n",
              "      <th>fractal_dimension_se</th>\n",
              "      <th>radius_worst</th>\n",
              "      <th>texture_worst</th>\n",
              "      <th>perimeter_worst</th>\n",
              "      <th>area_worst</th>\n",
              "      <th>smoothness_worst</th>\n",
              "      <th>compactness_worst</th>\n",
              "      <th>concavity_worst</th>\n",
              "      <th>concave points_worst</th>\n",
              "      <th>symmetry_worst</th>\n",
              "      <th>fractal_dimension_worst</th>\n",
              "      <th>diagnosis</th>\n",
              "    </tr>\n",
              "  </thead>\n",
              "  <tbody>\n",
              "    <tr>\n",
              "      <th>0</th>\n",
              "      <td>1.097064</td>\n",
              "      <td>-2.073335</td>\n",
              "      <td>1.269934</td>\n",
              "      <td>0.984375</td>\n",
              "      <td>1.568466</td>\n",
              "      <td>3.283515</td>\n",
              "      <td>2.652874</td>\n",
              "      <td>2.532475</td>\n",
              "      <td>2.217515</td>\n",
              "      <td>2.255747</td>\n",
              "      <td>2.489734</td>\n",
              "      <td>-0.565265</td>\n",
              "      <td>2.833031</td>\n",
              "      <td>2.487578</td>\n",
              "      <td>-0.214002</td>\n",
              "      <td>1.316862</td>\n",
              "      <td>0.724026</td>\n",
              "      <td>0.660820</td>\n",
              "      <td>1.148757</td>\n",
              "      <td>0.907083</td>\n",
              "      <td>1.886690</td>\n",
              "      <td>-1.359293</td>\n",
              "      <td>2.303601</td>\n",
              "      <td>2.001237</td>\n",
              "      <td>1.307686</td>\n",
              "      <td>2.616665</td>\n",
              "      <td>2.109526</td>\n",
              "      <td>2.296076</td>\n",
              "      <td>2.750622</td>\n",
              "      <td>1.937015</td>\n",
              "      <td>1</td>\n",
              "    </tr>\n",
              "    <tr>\n",
              "      <th>1</th>\n",
              "      <td>1.829821</td>\n",
              "      <td>-0.353632</td>\n",
              "      <td>1.685955</td>\n",
              "      <td>1.908708</td>\n",
              "      <td>-0.826962</td>\n",
              "      <td>-0.487072</td>\n",
              "      <td>-0.023846</td>\n",
              "      <td>0.548144</td>\n",
              "      <td>0.001392</td>\n",
              "      <td>-0.868652</td>\n",
              "      <td>0.499255</td>\n",
              "      <td>-0.876244</td>\n",
              "      <td>0.263327</td>\n",
              "      <td>0.742402</td>\n",
              "      <td>-0.605351</td>\n",
              "      <td>-0.692926</td>\n",
              "      <td>-0.440780</td>\n",
              "      <td>0.260162</td>\n",
              "      <td>-0.805450</td>\n",
              "      <td>-0.099444</td>\n",
              "      <td>1.805927</td>\n",
              "      <td>-0.369203</td>\n",
              "      <td>1.535126</td>\n",
              "      <td>1.890489</td>\n",
              "      <td>-0.375612</td>\n",
              "      <td>-0.430444</td>\n",
              "      <td>-0.146749</td>\n",
              "      <td>1.087084</td>\n",
              "      <td>-0.243890</td>\n",
              "      <td>0.281190</td>\n",
              "      <td>1</td>\n",
              "    </tr>\n",
              "    <tr>\n",
              "      <th>2</th>\n",
              "      <td>1.579888</td>\n",
              "      <td>0.456187</td>\n",
              "      <td>1.566503</td>\n",
              "      <td>1.558884</td>\n",
              "      <td>0.942210</td>\n",
              "      <td>1.052926</td>\n",
              "      <td>1.363478</td>\n",
              "      <td>2.037231</td>\n",
              "      <td>0.939685</td>\n",
              "      <td>-0.398008</td>\n",
              "      <td>1.228676</td>\n",
              "      <td>-0.780083</td>\n",
              "      <td>0.850928</td>\n",
              "      <td>1.181336</td>\n",
              "      <td>-0.297005</td>\n",
              "      <td>0.814974</td>\n",
              "      <td>0.213076</td>\n",
              "      <td>1.424827</td>\n",
              "      <td>0.237036</td>\n",
              "      <td>0.293559</td>\n",
              "      <td>1.511870</td>\n",
              "      <td>-0.023974</td>\n",
              "      <td>1.347475</td>\n",
              "      <td>1.456285</td>\n",
              "      <td>0.527407</td>\n",
              "      <td>1.082932</td>\n",
              "      <td>0.854974</td>\n",
              "      <td>1.955000</td>\n",
              "      <td>1.152255</td>\n",
              "      <td>0.201391</td>\n",
              "      <td>1</td>\n",
              "    </tr>\n",
              "    <tr>\n",
              "      <th>3</th>\n",
              "      <td>-0.768909</td>\n",
              "      <td>0.253732</td>\n",
              "      <td>-0.592687</td>\n",
              "      <td>-0.764464</td>\n",
              "      <td>3.283553</td>\n",
              "      <td>3.402909</td>\n",
              "      <td>1.915897</td>\n",
              "      <td>1.451707</td>\n",
              "      <td>2.867383</td>\n",
              "      <td>4.910919</td>\n",
              "      <td>0.326373</td>\n",
              "      <td>-0.110409</td>\n",
              "      <td>0.286593</td>\n",
              "      <td>-0.288378</td>\n",
              "      <td>0.689702</td>\n",
              "      <td>2.744280</td>\n",
              "      <td>0.819518</td>\n",
              "      <td>1.115007</td>\n",
              "      <td>4.732680</td>\n",
              "      <td>2.047511</td>\n",
              "      <td>-0.281464</td>\n",
              "      <td>0.133984</td>\n",
              "      <td>-0.249939</td>\n",
              "      <td>-0.550021</td>\n",
              "      <td>3.394275</td>\n",
              "      <td>3.893397</td>\n",
              "      <td>1.989588</td>\n",
              "      <td>2.175786</td>\n",
              "      <td>6.046041</td>\n",
              "      <td>4.935010</td>\n",
              "      <td>1</td>\n",
              "    </tr>\n",
              "    <tr>\n",
              "      <th>4</th>\n",
              "      <td>1.750297</td>\n",
              "      <td>-1.151816</td>\n",
              "      <td>1.776573</td>\n",
              "      <td>1.826229</td>\n",
              "      <td>0.280372</td>\n",
              "      <td>0.539340</td>\n",
              "      <td>1.371011</td>\n",
              "      <td>1.428493</td>\n",
              "      <td>-0.009560</td>\n",
              "      <td>-0.562450</td>\n",
              "      <td>1.270543</td>\n",
              "      <td>-0.790244</td>\n",
              "      <td>1.273189</td>\n",
              "      <td>1.190357</td>\n",
              "      <td>1.483067</td>\n",
              "      <td>-0.048520</td>\n",
              "      <td>0.828471</td>\n",
              "      <td>1.144205</td>\n",
              "      <td>-0.361092</td>\n",
              "      <td>0.499328</td>\n",
              "      <td>1.298575</td>\n",
              "      <td>-1.466770</td>\n",
              "      <td>1.338539</td>\n",
              "      <td>1.220724</td>\n",
              "      <td>0.220556</td>\n",
              "      <td>-0.313395</td>\n",
              "      <td>0.613179</td>\n",
              "      <td>0.729259</td>\n",
              "      <td>-0.868353</td>\n",
              "      <td>-0.397100</td>\n",
              "      <td>1</td>\n",
              "    </tr>\n",
              "  </tbody>\n",
              "</table>\n",
              "</div>"
            ],
            "text/plain": [
              "   radius_mean  texture_mean  ...  fractal_dimension_worst  diagnosis\n",
              "0     1.097064     -2.073335  ...                 1.937015          1\n",
              "1     1.829821     -0.353632  ...                 0.281190          1\n",
              "2     1.579888      0.456187  ...                 0.201391          1\n",
              "3    -0.768909      0.253732  ...                 4.935010          1\n",
              "4     1.750297     -1.151816  ...                -0.397100          1\n",
              "\n",
              "[5 rows x 31 columns]"
            ]
          },
          "metadata": {},
          "execution_count": 15
        }
      ]
    },
    {
      "cell_type": "markdown",
      "source": [
        "### Split dataset into train and test sets"
      ],
      "metadata": {
        "id": "BI53_uKmCzrH"
      }
    },
    {
      "cell_type": "code",
      "source": [
        "np.random.seed(123)\n",
        "train, test = train_test_split(cancer, test_size=0.30, random_state=42)"
      ],
      "metadata": {
        "id": "WDaW-iFU0yyJ"
      },
      "execution_count": null,
      "outputs": []
    },
    {
      "cell_type": "code",
      "metadata": {
        "id": "w-ZAlT-ClXFf"
      },
      "source": [
        "cancer = train"
      ],
      "execution_count": null,
      "outputs": []
    },
    {
      "cell_type": "code",
      "metadata": {
        "id": "-4IOa-ZqmK92"
      },
      "source": [
        "all_predictors = ['radius_mean', 'texture_mean', 'perimeter_mean', 'area_mean',\n",
        "       'smoothness_mean', 'compactness_mean', 'concavity_mean',\n",
        "       'concave points_mean', 'symmetry_mean', 'fractal_dimension_mean',\n",
        "       'radius_se', 'texture_se', 'perimeter_se', 'area_se', 'smoothness_se',\n",
        "       'compactness_se', 'concavity_se', 'concave points_se', 'symmetry_se',\n",
        "       'fractal_dimension_se', 'radius_worst', 'texture_worst',\n",
        "       'perimeter_worst', 'area_worst', 'smoothness_worst',\n",
        "       'compactness_worst', 'concavity_worst', 'concave points_worst',\n",
        "       'symmetry_worst', 'fractal_dimension_worst']\n",
        "y = cancer['diagnosis']\n",
        "# No. of predictors \n",
        "k = len(all_predictors)\n",
        "\n",
        "X = cancer[all_predictors]"
      ],
      "execution_count": null,
      "outputs": []
    },
    {
      "cell_type": "code",
      "source": [
        "test_X = test[all_predictors]\n",
        "test_y = test['diagnosis']"
      ],
      "metadata": {
        "id": "zlresn-J1OeY"
      },
      "execution_count": null,
      "outputs": []
    },
    {
      "cell_type": "markdown",
      "metadata": {
        "id": "9idw9OFLm5jU"
      },
      "source": [
        "## **Bayesian Logistic Regression**"
      ]
    },
    {
      "cell_type": "markdown",
      "source": [
        "First, we will consider a full Bayesian Logistic Regression model."
      ],
      "metadata": {
        "id": "gAMXy2Ykh8VJ"
      }
    },
    {
      "cell_type": "code",
      "metadata": {
        "colab": {
          "base_uri": "https://localhost:8080/",
          "height": 161
        },
        "id": "DMkXA_7smozi",
        "outputId": "3b0995a0-608f-48bc-9f91-c1d37aba9150"
      },
      "source": [
        "with pm.Model() as cancer_model: \n",
        "\n",
        "  # build the model with priors and run the sampling \n",
        "  data = pm.Data(\"data\", X)\n",
        "\n",
        "  # intercept term and prior \n",
        "  B0 = pm.Normal('B0', mu=0, sd=10)\n",
        "\n",
        "  # beta coefficients for predictor variables and priors \n",
        "\n",
        "  B = pm.MvNormal('B', mu=np.zeros(k), cov=np.eye(k), shape=k)\n",
        "\n",
        "  # calculate the logit \n",
        "\n",
        "  M = B0 + pm.math.dot(data, B)\n",
        "  theta = pm.Deterministic('theta', pm.invlogit(M))\n",
        "  \n",
        "  # pass the logits to a Bernoulli outcome, with the observed data \n",
        "  Y = pm.Bernoulli('Y', p=theta, observed=y)\n",
        "\n",
        "  # sample \n",
        "  trace_main = pm.sample(10000, cores=8)"
      ],
      "execution_count": null,
      "outputs": [
        {
          "output_type": "stream",
          "name": "stderr",
          "text": [
            "/usr/local/lib/python3.7/dist-packages/ipykernel_launcher.py:22: FutureWarning: In v4.0, pm.sample will return an `arviz.InferenceData` object instead of a `MultiTrace` by default. You can pass return_inferencedata=True or return_inferencedata=False to be safe and silence this warning.\n",
            "Auto-assigning NUTS sampler...\n",
            "Initializing NUTS using jitter+adapt_diag...\n",
            "Multiprocess sampling (8 chains in 8 jobs)\n",
            "NUTS: [B, B0]\n"
          ]
        },
        {
          "output_type": "display_data",
          "data": {
            "text/html": [
              "\n",
              "    <div>\n",
              "        <style>\n",
              "            /* Turns off some styling */\n",
              "            progress {\n",
              "                /* gets rid of default border in Firefox and Opera. */\n",
              "                border: none;\n",
              "                /* Needs to be in here for Safari polyfill so background images work as expected. */\n",
              "                background-size: auto;\n",
              "            }\n",
              "            .progress-bar-interrupted, .progress-bar-interrupted::-webkit-progress-bar {\n",
              "                background: #F44336;\n",
              "            }\n",
              "        </style>\n",
              "      <progress value='88000' class='' max='88000' style='width:300px; height:20px; vertical-align: middle;'></progress>\n",
              "      100.00% [88000/88000 32:08<00:00 Sampling 8 chains, 0 divergences]\n",
              "    </div>\n",
              "    "
            ],
            "text/plain": [
              "<IPython.core.display.HTML object>"
            ]
          },
          "metadata": {}
        },
        {
          "output_type": "stream",
          "name": "stderr",
          "text": [
            "Sampling 8 chains for 1_000 tune and 10_000 draw iterations (8_000 + 80_000 draws total) took 1929 seconds.\n"
          ]
        }
      ]
    },
    {
      "cell_type": "code",
      "metadata": {
        "colab": {
          "base_uri": "https://localhost:8080/",
          "height": 487
        },
        "id": "06_XMKi4nFiP",
        "outputId": "39036d65-ddc2-4bd7-f71f-42433c113b23"
      },
      "source": [
        "pm.model_to_graphviz(cancer_model)"
      ],
      "execution_count": null,
      "outputs": [
        {
          "output_type": "execute_result",
          "data": {
            "text/plain": [
              "<graphviz.dot.Digraph at 0x7f4891889850>"
            ],
            "image/svg+xml": "<?xml version=\"1.0\" encoding=\"UTF-8\" standalone=\"no\"?>\n<!DOCTYPE svg PUBLIC \"-//W3C//DTD SVG 1.1//EN\"\n \"http://www.w3.org/Graphics/SVG/1.1/DTD/svg11.dtd\">\n<!-- Generated by graphviz version 2.40.1 (20161225.0304)\n -->\n<!-- Title: %3 Pages: 1 -->\n<svg width=\"328pt\" height=\"349pt\"\n viewBox=\"0.00 0.00 328.00 348.91\" xmlns=\"http://www.w3.org/2000/svg\" xmlns:xlink=\"http://www.w3.org/1999/xlink\">\n<g id=\"graph0\" class=\"graph\" transform=\"scale(1 1) rotate(0) translate(4 344.9066)\">\n<title>%3</title>\n<polygon fill=\"#ffffff\" stroke=\"transparent\" points=\"-4,4 -4,-344.9066 324,-344.9066 324,4 -4,4\"/>\n<g id=\"clust1\" class=\"cluster\">\n<title>cluster398 x 30</title>\n<path fill=\"none\" stroke=\"#000000\" d=\"M20,-229.93C20,-229.93 66,-229.93 66,-229.93 72,-229.93 78,-235.93 78,-241.93 78,-241.93 78,-309.93 78,-309.93 78,-315.93 72,-321.93 66,-321.93 66,-321.93 20,-321.93 20,-321.93 14,-321.93 8,-315.93 8,-309.93 8,-309.93 8,-241.93 8,-241.93 8,-235.93 14,-229.93 20,-229.93\"/>\n<text text-anchor=\"middle\" x=\"43.5\" y=\"-237.73\" font-family=\"Times,serif\" font-size=\"14.00\" fill=\"#000000\">398 x 30</text>\n</g>\n<g id=\"clust2\" class=\"cluster\">\n<title>cluster30</title>\n<path fill=\"none\" stroke=\"#000000\" d=\"M194,-218.9533C194,-218.9533 300,-218.9533 300,-218.9533 306,-218.9533 312,-224.9533 312,-230.9533 312,-230.9533 312,-320.9066 312,-320.9066 312,-326.9066 306,-332.9066 300,-332.9066 300,-332.9066 194,-332.9066 194,-332.9066 188,-332.9066 182,-326.9066 182,-320.9066 182,-320.9066 182,-230.9533 182,-230.9533 182,-224.9533 188,-218.9533 194,-218.9533\"/>\n<text text-anchor=\"middle\" x=\"296\" y=\"-226.7533\" font-family=\"Times,serif\" font-size=\"14.00\" fill=\"#000000\">30</text>\n</g>\n<g id=\"clust3\" class=\"cluster\">\n<title>cluster398</title>\n<path fill=\"none\" stroke=\"#000000\" d=\"M84,-8C84,-8 176,-8 176,-8 182,-8 188,-14 188,-20 188,-20 188,-198.9533 188,-198.9533 188,-204.9533 182,-210.9533 176,-210.9533 176,-210.9533 84,-210.9533 84,-210.9533 78,-210.9533 72,-204.9533 72,-198.9533 72,-198.9533 72,-20 72,-20 72,-14 78,-8 84,-8\"/>\n<text text-anchor=\"middle\" x=\"168.5\" y=\"-15.8\" font-family=\"Times,serif\" font-size=\"14.00\" fill=\"#000000\">398</text>\n</g>\n<!-- data -->\n<g id=\"node1\" class=\"node\">\n<title>data</title>\n<path fill=\"#d3d3d3\" stroke=\"#000000\" d=\"M58,-313.93C58,-313.93 28,-313.93 28,-313.93 22,-313.93 16,-307.93 16,-301.93 16,-301.93 16,-272.93 16,-272.93 16,-266.93 22,-260.93 28,-260.93 28,-260.93 58,-260.93 58,-260.93 64,-260.93 70,-266.93 70,-272.93 70,-272.93 70,-301.93 70,-301.93 70,-307.93 64,-313.93 58,-313.93\"/>\n<text text-anchor=\"middle\" x=\"43\" y=\"-298.73\" font-family=\"Times,serif\" font-size=\"14.00\" fill=\"#000000\">data</text>\n<text text-anchor=\"middle\" x=\"43\" y=\"-283.73\" font-family=\"Times,serif\" font-size=\"14.00\" fill=\"#000000\">~</text>\n<text text-anchor=\"middle\" x=\"43\" y=\"-268.73\" font-family=\"Times,serif\" font-size=\"14.00\" fill=\"#000000\">Data</text>\n</g>\n<!-- theta -->\n<g id=\"node4\" class=\"node\">\n<title>theta</title>\n<polygon fill=\"none\" stroke=\"#000000\" points=\"176,-202.9533 84,-202.9533 84,-149.9533 176,-149.9533 176,-202.9533\"/>\n<text text-anchor=\"middle\" x=\"130\" y=\"-187.7533\" font-family=\"Times,serif\" font-size=\"14.00\" fill=\"#000000\">theta</text>\n<text text-anchor=\"middle\" x=\"130\" y=\"-172.7533\" font-family=\"Times,serif\" font-size=\"14.00\" fill=\"#000000\">~</text>\n<text text-anchor=\"middle\" x=\"130\" y=\"-157.7533\" font-family=\"Times,serif\" font-size=\"14.00\" fill=\"#000000\">Deterministic</text>\n</g>\n<!-- data&#45;&gt;theta -->\n<g id=\"edge2\" class=\"edge\">\n<title>data&#45;&gt;theta</title>\n<path fill=\"none\" stroke=\"#000000\" d=\"M53.9493,-260.9281C60.1792,-247.5788 68.7806,-231.5898 79,-218.9533 81.3871,-216.0016 84.0043,-213.1058 86.7527,-210.3006\"/>\n<polygon fill=\"#000000\" stroke=\"#000000\" points=\"89.4618,-212.5524 94.2667,-203.1098 84.622,-207.4951 89.4618,-212.5524\"/>\n</g>\n<!-- B0 -->\n<g id=\"node2\" class=\"node\">\n<title>B0</title>\n<ellipse fill=\"none\" stroke=\"#000000\" cx=\"130\" cy=\"-287.43\" rx=\"42.3529\" ry=\"37.4533\"/>\n<text text-anchor=\"middle\" x=\"130\" y=\"-298.73\" font-family=\"Times,serif\" font-size=\"14.00\" fill=\"#000000\">B0</text>\n<text text-anchor=\"middle\" x=\"130\" y=\"-283.73\" font-family=\"Times,serif\" font-size=\"14.00\" fill=\"#000000\">~</text>\n<text text-anchor=\"middle\" x=\"130\" y=\"-268.73\" font-family=\"Times,serif\" font-size=\"14.00\" fill=\"#000000\">Normal</text>\n</g>\n<!-- B0&#45;&gt;theta -->\n<g id=\"edge3\" class=\"edge\">\n<title>B0&#45;&gt;theta</title>\n<path fill=\"none\" stroke=\"#000000\" d=\"M130,-249.8583C130,-238.1113 130,-225.1642 130,-213.4566\"/>\n<polygon fill=\"#000000\" stroke=\"#000000\" points=\"133.5001,-213.1232 130,-203.1232 126.5001,-213.1233 133.5001,-213.1232\"/>\n</g>\n<!-- B -->\n<g id=\"node3\" class=\"node\">\n<title>B</title>\n<ellipse fill=\"none\" stroke=\"#000000\" cx=\"247\" cy=\"-287.43\" rx=\"56.6372\" ry=\"37.4533\"/>\n<text text-anchor=\"middle\" x=\"247\" y=\"-298.73\" font-family=\"Times,serif\" font-size=\"14.00\" fill=\"#000000\">B</text>\n<text text-anchor=\"middle\" x=\"247\" y=\"-283.73\" font-family=\"Times,serif\" font-size=\"14.00\" fill=\"#000000\">~</text>\n<text text-anchor=\"middle\" x=\"247\" y=\"-268.73\" font-family=\"Times,serif\" font-size=\"14.00\" fill=\"#000000\">MvNormal</text>\n</g>\n<!-- B&#45;&gt;theta -->\n<g id=\"edge1\" class=\"edge\">\n<title>B&#45;&gt;theta</title>\n<path fill=\"none\" stroke=\"#000000\" d=\"M217.4707,-255.3564C206.3135,-243.6251 193.3311,-230.4243 181,-218.9533 177.7313,-215.9126 174.2842,-212.8191 170.7874,-209.7583\"/>\n<polygon fill=\"#000000\" stroke=\"#000000\" points=\"172.9654,-207.015 163.1033,-203.1434 168.3985,-212.3201 172.9654,-207.015\"/>\n</g>\n<!-- Y -->\n<g id=\"node5\" class=\"node\">\n<title>Y</title>\n<ellipse fill=\"#d3d3d3\" stroke=\"#000000\" cx=\"130\" cy=\"-76.4767\" rx=\"50.41\" ry=\"37.4533\"/>\n<text text-anchor=\"middle\" x=\"130\" y=\"-87.7767\" font-family=\"Times,serif\" font-size=\"14.00\" fill=\"#000000\">Y</text>\n<text text-anchor=\"middle\" x=\"130\" y=\"-72.7767\" font-family=\"Times,serif\" font-size=\"14.00\" fill=\"#000000\">~</text>\n<text text-anchor=\"middle\" x=\"130\" y=\"-57.7767\" font-family=\"Times,serif\" font-size=\"14.00\" fill=\"#000000\">Bernoulli</text>\n</g>\n<!-- theta&#45;&gt;Y -->\n<g id=\"edge4\" class=\"edge\">\n<title>theta&#45;&gt;Y</title>\n<path fill=\"none\" stroke=\"#000000\" d=\"M130,-149.9239C130,-142.0239 130,-133.113 130,-124.2925\"/>\n<polygon fill=\"#000000\" stroke=\"#000000\" points=\"133.5001,-124.0454 130,-114.0454 126.5001,-124.0455 133.5001,-124.0454\"/>\n</g>\n</g>\n</svg>\n"
          },
          "metadata": {},
          "execution_count": 19
        }
      ]
    },
    {
      "cell_type": "code",
      "source": [
        "# summary table\n",
        "with cancer_model:\n",
        "  main_idata = az.from_pymc3(trace_main)\n",
        "\n",
        "az.summary(main_idata, var_names=['B0', 'B'], round_to=2)"
      ],
      "metadata": {
        "colab": {
          "base_uri": "https://localhost:8080/",
          "height": 1000
        },
        "id": "KmDoG5Z_gSiw",
        "outputId": "19ac67ab-f4fc-4539-ff52-79d27bab52e8"
      },
      "execution_count": null,
      "outputs": [
        {
          "output_type": "execute_result",
          "data": {
            "text/html": [
              "<div>\n",
              "<style scoped>\n",
              "    .dataframe tbody tr th:only-of-type {\n",
              "        vertical-align: middle;\n",
              "    }\n",
              "\n",
              "    .dataframe tbody tr th {\n",
              "        vertical-align: top;\n",
              "    }\n",
              "\n",
              "    .dataframe thead th {\n",
              "        text-align: right;\n",
              "    }\n",
              "</style>\n",
              "<table border=\"1\" class=\"dataframe\">\n",
              "  <thead>\n",
              "    <tr style=\"text-align: right;\">\n",
              "      <th></th>\n",
              "      <th>mean</th>\n",
              "      <th>sd</th>\n",
              "      <th>hdi_3%</th>\n",
              "      <th>hdi_97%</th>\n",
              "      <th>mcse_mean</th>\n",
              "      <th>mcse_sd</th>\n",
              "      <th>ess_bulk</th>\n",
              "      <th>ess_tail</th>\n",
              "      <th>r_hat</th>\n",
              "    </tr>\n",
              "  </thead>\n",
              "  <tbody>\n",
              "    <tr>\n",
              "      <th>B0</th>\n",
              "      <td>-0.32</td>\n",
              "      <td>0.44</td>\n",
              "      <td>-1.14</td>\n",
              "      <td>0.52</td>\n",
              "      <td>0.0</td>\n",
              "      <td>0.0</td>\n",
              "      <td>55219.28</td>\n",
              "      <td>54761.82</td>\n",
              "      <td>1.0</td>\n",
              "    </tr>\n",
              "    <tr>\n",
              "      <th>B[0]</th>\n",
              "      <td>0.46</td>\n",
              "      <td>0.90</td>\n",
              "      <td>-1.27</td>\n",
              "      <td>2.13</td>\n",
              "      <td>0.0</td>\n",
              "      <td>0.0</td>\n",
              "      <td>67671.97</td>\n",
              "      <td>54587.84</td>\n",
              "      <td>1.0</td>\n",
              "    </tr>\n",
              "    <tr>\n",
              "      <th>B[1]</th>\n",
              "      <td>0.45</td>\n",
              "      <td>0.57</td>\n",
              "      <td>-0.65</td>\n",
              "      <td>1.51</td>\n",
              "      <td>0.0</td>\n",
              "      <td>0.0</td>\n",
              "      <td>45946.65</td>\n",
              "      <td>49357.71</td>\n",
              "      <td>1.0</td>\n",
              "    </tr>\n",
              "    <tr>\n",
              "      <th>B[2]</th>\n",
              "      <td>0.42</td>\n",
              "      <td>0.90</td>\n",
              "      <td>-1.28</td>\n",
              "      <td>2.10</td>\n",
              "      <td>0.0</td>\n",
              "      <td>0.0</td>\n",
              "      <td>68038.43</td>\n",
              "      <td>55792.49</td>\n",
              "      <td>1.0</td>\n",
              "    </tr>\n",
              "    <tr>\n",
              "      <th>B[3]</th>\n",
              "      <td>0.54</td>\n",
              "      <td>0.92</td>\n",
              "      <td>-1.18</td>\n",
              "      <td>2.26</td>\n",
              "      <td>0.0</td>\n",
              "      <td>0.0</td>\n",
              "      <td>63307.65</td>\n",
              "      <td>52842.41</td>\n",
              "      <td>1.0</td>\n",
              "    </tr>\n",
              "    <tr>\n",
              "      <th>B[4]</th>\n",
              "      <td>0.29</td>\n",
              "      <td>0.67</td>\n",
              "      <td>-0.98</td>\n",
              "      <td>1.54</td>\n",
              "      <td>0.0</td>\n",
              "      <td>0.0</td>\n",
              "      <td>60639.92</td>\n",
              "      <td>50915.46</td>\n",
              "      <td>1.0</td>\n",
              "    </tr>\n",
              "    <tr>\n",
              "      <th>B[5]</th>\n",
              "      <td>-0.65</td>\n",
              "      <td>0.81</td>\n",
              "      <td>-2.19</td>\n",
              "      <td>0.88</td>\n",
              "      <td>0.0</td>\n",
              "      <td>0.0</td>\n",
              "      <td>60464.40</td>\n",
              "      <td>54636.32</td>\n",
              "      <td>1.0</td>\n",
              "    </tr>\n",
              "    <tr>\n",
              "      <th>B[6]</th>\n",
              "      <td>0.86</td>\n",
              "      <td>0.83</td>\n",
              "      <td>-0.70</td>\n",
              "      <td>2.43</td>\n",
              "      <td>0.0</td>\n",
              "      <td>0.0</td>\n",
              "      <td>60848.91</td>\n",
              "      <td>51450.08</td>\n",
              "      <td>1.0</td>\n",
              "    </tr>\n",
              "    <tr>\n",
              "      <th>B[7]</th>\n",
              "      <td>1.24</td>\n",
              "      <td>0.86</td>\n",
              "      <td>-0.39</td>\n",
              "      <td>2.85</td>\n",
              "      <td>0.0</td>\n",
              "      <td>0.0</td>\n",
              "      <td>66050.96</td>\n",
              "      <td>55414.62</td>\n",
              "      <td>1.0</td>\n",
              "    </tr>\n",
              "    <tr>\n",
              "      <th>B[8]</th>\n",
              "      <td>-0.29</td>\n",
              "      <td>0.54</td>\n",
              "      <td>-1.30</td>\n",
              "      <td>0.73</td>\n",
              "      <td>0.0</td>\n",
              "      <td>0.0</td>\n",
              "      <td>63286.89</td>\n",
              "      <td>56456.62</td>\n",
              "      <td>1.0</td>\n",
              "    </tr>\n",
              "    <tr>\n",
              "      <th>B[9]</th>\n",
              "      <td>-0.26</td>\n",
              "      <td>0.71</td>\n",
              "      <td>-1.58</td>\n",
              "      <td>1.09</td>\n",
              "      <td>0.0</td>\n",
              "      <td>0.0</td>\n",
              "      <td>58247.09</td>\n",
              "      <td>53388.21</td>\n",
              "      <td>1.0</td>\n",
              "    </tr>\n",
              "    <tr>\n",
              "      <th>B[10]</th>\n",
              "      <td>1.38</td>\n",
              "      <td>0.80</td>\n",
              "      <td>-0.13</td>\n",
              "      <td>2.89</td>\n",
              "      <td>0.0</td>\n",
              "      <td>0.0</td>\n",
              "      <td>56109.66</td>\n",
              "      <td>52184.89</td>\n",
              "      <td>1.0</td>\n",
              "    </tr>\n",
              "    <tr>\n",
              "      <th>B[11]</th>\n",
              "      <td>-0.21</td>\n",
              "      <td>0.54</td>\n",
              "      <td>-1.24</td>\n",
              "      <td>0.78</td>\n",
              "      <td>0.0</td>\n",
              "      <td>0.0</td>\n",
              "      <td>48441.94</td>\n",
              "      <td>52636.67</td>\n",
              "      <td>1.0</td>\n",
              "    </tr>\n",
              "    <tr>\n",
              "      <th>B[12]</th>\n",
              "      <td>0.70</td>\n",
              "      <td>0.81</td>\n",
              "      <td>-0.80</td>\n",
              "      <td>2.22</td>\n",
              "      <td>0.0</td>\n",
              "      <td>0.0</td>\n",
              "      <td>56151.07</td>\n",
              "      <td>52237.66</td>\n",
              "      <td>1.0</td>\n",
              "    </tr>\n",
              "    <tr>\n",
              "      <th>B[13]</th>\n",
              "      <td>1.08</td>\n",
              "      <td>0.93</td>\n",
              "      <td>-0.67</td>\n",
              "      <td>2.82</td>\n",
              "      <td>0.0</td>\n",
              "      <td>0.0</td>\n",
              "      <td>59761.46</td>\n",
              "      <td>51069.83</td>\n",
              "      <td>1.0</td>\n",
              "    </tr>\n",
              "    <tr>\n",
              "      <th>B[14]</th>\n",
              "      <td>0.35</td>\n",
              "      <td>0.48</td>\n",
              "      <td>-0.56</td>\n",
              "      <td>1.26</td>\n",
              "      <td>0.0</td>\n",
              "      <td>0.0</td>\n",
              "      <td>49825.02</td>\n",
              "      <td>53203.78</td>\n",
              "      <td>1.0</td>\n",
              "    </tr>\n",
              "    <tr>\n",
              "      <th>B[15]</th>\n",
              "      <td>-0.58</td>\n",
              "      <td>0.68</td>\n",
              "      <td>-1.86</td>\n",
              "      <td>0.71</td>\n",
              "      <td>0.0</td>\n",
              "      <td>0.0</td>\n",
              "      <td>53870.82</td>\n",
              "      <td>51855.64</td>\n",
              "      <td>1.0</td>\n",
              "    </tr>\n",
              "    <tr>\n",
              "      <th>B[16]</th>\n",
              "      <td>-0.09</td>\n",
              "      <td>0.70</td>\n",
              "      <td>-1.40</td>\n",
              "      <td>1.22</td>\n",
              "      <td>0.0</td>\n",
              "      <td>0.0</td>\n",
              "      <td>49423.47</td>\n",
              "      <td>51649.19</td>\n",
              "      <td>1.0</td>\n",
              "    </tr>\n",
              "    <tr>\n",
              "      <th>B[17]</th>\n",
              "      <td>0.47</td>\n",
              "      <td>0.70</td>\n",
              "      <td>-0.84</td>\n",
              "      <td>1.77</td>\n",
              "      <td>0.0</td>\n",
              "      <td>0.0</td>\n",
              "      <td>51260.50</td>\n",
              "      <td>48910.24</td>\n",
              "      <td>1.0</td>\n",
              "    </tr>\n",
              "    <tr>\n",
              "      <th>B[18]</th>\n",
              "      <td>-0.52</td>\n",
              "      <td>0.58</td>\n",
              "      <td>-1.62</td>\n",
              "      <td>0.54</td>\n",
              "      <td>0.0</td>\n",
              "      <td>0.0</td>\n",
              "      <td>51045.26</td>\n",
              "      <td>52861.04</td>\n",
              "      <td>1.0</td>\n",
              "    </tr>\n",
              "    <tr>\n",
              "      <th>B[19]</th>\n",
              "      <td>-0.90</td>\n",
              "      <td>0.72</td>\n",
              "      <td>-2.28</td>\n",
              "      <td>0.44</td>\n",
              "      <td>0.0</td>\n",
              "      <td>0.0</td>\n",
              "      <td>54840.12</td>\n",
              "      <td>53044.33</td>\n",
              "      <td>1.0</td>\n",
              "    </tr>\n",
              "    <tr>\n",
              "      <th>B[20]</th>\n",
              "      <td>0.91</td>\n",
              "      <td>0.93</td>\n",
              "      <td>-0.83</td>\n",
              "      <td>2.65</td>\n",
              "      <td>0.0</td>\n",
              "      <td>0.0</td>\n",
              "      <td>68846.83</td>\n",
              "      <td>51418.42</td>\n",
              "      <td>1.0</td>\n",
              "    </tr>\n",
              "    <tr>\n",
              "      <th>B[21]</th>\n",
              "      <td>1.51</td>\n",
              "      <td>0.66</td>\n",
              "      <td>0.28</td>\n",
              "      <td>2.77</td>\n",
              "      <td>0.0</td>\n",
              "      <td>0.0</td>\n",
              "      <td>38331.29</td>\n",
              "      <td>45748.89</td>\n",
              "      <td>1.0</td>\n",
              "    </tr>\n",
              "    <tr>\n",
              "      <th>B[22]</th>\n",
              "      <td>0.60</td>\n",
              "      <td>0.93</td>\n",
              "      <td>-1.16</td>\n",
              "      <td>2.31</td>\n",
              "      <td>0.0</td>\n",
              "      <td>0.0</td>\n",
              "      <td>68988.91</td>\n",
              "      <td>53277.40</td>\n",
              "      <td>1.0</td>\n",
              "    </tr>\n",
              "    <tr>\n",
              "      <th>B[23]</th>\n",
              "      <td>0.89</td>\n",
              "      <td>0.94</td>\n",
              "      <td>-0.90</td>\n",
              "      <td>2.63</td>\n",
              "      <td>0.0</td>\n",
              "      <td>0.0</td>\n",
              "      <td>65805.43</td>\n",
              "      <td>53503.25</td>\n",
              "      <td>1.0</td>\n",
              "    </tr>\n",
              "    <tr>\n",
              "      <th>B[24]</th>\n",
              "      <td>0.54</td>\n",
              "      <td>0.65</td>\n",
              "      <td>-0.69</td>\n",
              "      <td>1.75</td>\n",
              "      <td>0.0</td>\n",
              "      <td>0.0</td>\n",
              "      <td>51509.80</td>\n",
              "      <td>52480.05</td>\n",
              "      <td>1.0</td>\n",
              "    </tr>\n",
              "    <tr>\n",
              "      <th>B[25]</th>\n",
              "      <td>-0.01</td>\n",
              "      <td>0.80</td>\n",
              "      <td>-1.49</td>\n",
              "      <td>1.52</td>\n",
              "      <td>0.0</td>\n",
              "      <td>0.0</td>\n",
              "      <td>55814.95</td>\n",
              "      <td>52107.85</td>\n",
              "      <td>1.0</td>\n",
              "    </tr>\n",
              "    <tr>\n",
              "      <th>B[26]</th>\n",
              "      <td>1.12</td>\n",
              "      <td>0.78</td>\n",
              "      <td>-0.36</td>\n",
              "      <td>2.59</td>\n",
              "      <td>0.0</td>\n",
              "      <td>0.0</td>\n",
              "      <td>54730.75</td>\n",
              "      <td>51035.93</td>\n",
              "      <td>1.0</td>\n",
              "    </tr>\n",
              "    <tr>\n",
              "      <th>B[27]</th>\n",
              "      <td>0.94</td>\n",
              "      <td>0.83</td>\n",
              "      <td>-0.60</td>\n",
              "      <td>2.50</td>\n",
              "      <td>0.0</td>\n",
              "      <td>0.0</td>\n",
              "      <td>63953.37</td>\n",
              "      <td>55446.60</td>\n",
              "      <td>1.0</td>\n",
              "    </tr>\n",
              "    <tr>\n",
              "      <th>B[28]</th>\n",
              "      <td>1.43</td>\n",
              "      <td>0.60</td>\n",
              "      <td>0.30</td>\n",
              "      <td>2.55</td>\n",
              "      <td>0.0</td>\n",
              "      <td>0.0</td>\n",
              "      <td>48155.17</td>\n",
              "      <td>49727.43</td>\n",
              "      <td>1.0</td>\n",
              "    </tr>\n",
              "    <tr>\n",
              "      <th>B[29]</th>\n",
              "      <td>0.16</td>\n",
              "      <td>0.74</td>\n",
              "      <td>-1.24</td>\n",
              "      <td>1.52</td>\n",
              "      <td>0.0</td>\n",
              "      <td>0.0</td>\n",
              "      <td>53780.44</td>\n",
              "      <td>52594.20</td>\n",
              "      <td>1.0</td>\n",
              "    </tr>\n",
              "  </tbody>\n",
              "</table>\n",
              "</div>"
            ],
            "text/plain": [
              "       mean    sd  hdi_3%  hdi_97%  ...  mcse_sd  ess_bulk  ess_tail  r_hat\n",
              "B0    -0.32  0.44   -1.14     0.52  ...      0.0  55219.28  54761.82    1.0\n",
              "B[0]   0.46  0.90   -1.27     2.13  ...      0.0  67671.97  54587.84    1.0\n",
              "B[1]   0.45  0.57   -0.65     1.51  ...      0.0  45946.65  49357.71    1.0\n",
              "B[2]   0.42  0.90   -1.28     2.10  ...      0.0  68038.43  55792.49    1.0\n",
              "B[3]   0.54  0.92   -1.18     2.26  ...      0.0  63307.65  52842.41    1.0\n",
              "B[4]   0.29  0.67   -0.98     1.54  ...      0.0  60639.92  50915.46    1.0\n",
              "B[5]  -0.65  0.81   -2.19     0.88  ...      0.0  60464.40  54636.32    1.0\n",
              "B[6]   0.86  0.83   -0.70     2.43  ...      0.0  60848.91  51450.08    1.0\n",
              "B[7]   1.24  0.86   -0.39     2.85  ...      0.0  66050.96  55414.62    1.0\n",
              "B[8]  -0.29  0.54   -1.30     0.73  ...      0.0  63286.89  56456.62    1.0\n",
              "B[9]  -0.26  0.71   -1.58     1.09  ...      0.0  58247.09  53388.21    1.0\n",
              "B[10]  1.38  0.80   -0.13     2.89  ...      0.0  56109.66  52184.89    1.0\n",
              "B[11] -0.21  0.54   -1.24     0.78  ...      0.0  48441.94  52636.67    1.0\n",
              "B[12]  0.70  0.81   -0.80     2.22  ...      0.0  56151.07  52237.66    1.0\n",
              "B[13]  1.08  0.93   -0.67     2.82  ...      0.0  59761.46  51069.83    1.0\n",
              "B[14]  0.35  0.48   -0.56     1.26  ...      0.0  49825.02  53203.78    1.0\n",
              "B[15] -0.58  0.68   -1.86     0.71  ...      0.0  53870.82  51855.64    1.0\n",
              "B[16] -0.09  0.70   -1.40     1.22  ...      0.0  49423.47  51649.19    1.0\n",
              "B[17]  0.47  0.70   -0.84     1.77  ...      0.0  51260.50  48910.24    1.0\n",
              "B[18] -0.52  0.58   -1.62     0.54  ...      0.0  51045.26  52861.04    1.0\n",
              "B[19] -0.90  0.72   -2.28     0.44  ...      0.0  54840.12  53044.33    1.0\n",
              "B[20]  0.91  0.93   -0.83     2.65  ...      0.0  68846.83  51418.42    1.0\n",
              "B[21]  1.51  0.66    0.28     2.77  ...      0.0  38331.29  45748.89    1.0\n",
              "B[22]  0.60  0.93   -1.16     2.31  ...      0.0  68988.91  53277.40    1.0\n",
              "B[23]  0.89  0.94   -0.90     2.63  ...      0.0  65805.43  53503.25    1.0\n",
              "B[24]  0.54  0.65   -0.69     1.75  ...      0.0  51509.80  52480.05    1.0\n",
              "B[25] -0.01  0.80   -1.49     1.52  ...      0.0  55814.95  52107.85    1.0\n",
              "B[26]  1.12  0.78   -0.36     2.59  ...      0.0  54730.75  51035.93    1.0\n",
              "B[27]  0.94  0.83   -0.60     2.50  ...      0.0  63953.37  55446.60    1.0\n",
              "B[28]  1.43  0.60    0.30     2.55  ...      0.0  48155.17  49727.43    1.0\n",
              "B[29]  0.16  0.74   -1.24     1.52  ...      0.0  53780.44  52594.20    1.0\n",
              "\n",
              "[31 rows x 9 columns]"
            ]
          },
          "metadata": {},
          "execution_count": 20
        }
      ]
    },
    {
      "cell_type": "code",
      "metadata": {
        "colab": {
          "base_uri": "https://localhost:8080/",
          "height": 279
        },
        "id": "kPCsqyXruUat",
        "outputId": "f5aee694-4f90-40bb-98e1-99418ff5e071"
      },
      "source": [
        "# trace plots\n",
        "with cancer_model:\n",
        "  az.plot_trace(trace_main, var_names=['B0','B'])"
      ],
      "execution_count": null,
      "outputs": [
        {
          "output_type": "display_data",
          "data": {
            "image/png": "[encoded data removed]",
            "text/plain": [
              "<Figure size 864x288 with 4 Axes>"
            ]
          },
          "metadata": {
            "needs_background": "light"
          }
        }
      ]
    },
    {
      "cell_type": "markdown",
      "source": [
        "Trace plots reveal that all beta coefficients converge to their respective mean values"
      ],
      "metadata": {
        "id": "eU_aelOPggjd"
      }
    },
    {
      "cell_type": "code",
      "metadata": {
        "colab": {
          "base_uri": "https://localhost:8080/",
          "height": 1000
        },
        "id": "G-Z3xckcucN3",
        "outputId": "5cd3d46b-d19b-4e6a-c32c-b6bbcfe2cd5d"
      },
      "source": [
        "# forest plots \n",
        "with cancer_model:\n",
        "  pm.plot_forest(trace_main, var_names=['B0','B'])\n",
        "  plt.axvline(color='r', linestyle='-')"
      ],
      "execution_count": null,
      "outputs": [
        {
          "output_type": "display_data",
          "data": {
            "image/png": "[encoded data removed]",
            "text/plain": [
              "<Figure size 432x2145.6 with 1 Axes>"
            ]
          },
          "metadata": {
            "needs_background": "light"
          }
        }
      ]
    },
    {
      "cell_type": "code",
      "source": [
        "pd.DataFrame(all_predictors)"
      ],
      "metadata": {
        "colab": {
          "base_uri": "https://localhost:8080/",
          "height": 990
        },
        "id": "OTy5O2MVhMk4",
        "outputId": "ee5769f1-81f5-4a61-90de-2745dc460d61"
      },
      "execution_count": null,
      "outputs": [
        {
          "output_type": "execute_result",
          "data": {
            "text/html": [
              "<div>\n",
              "<style scoped>\n",
              "    .dataframe tbody tr th:only-of-type {\n",
              "        vertical-align: middle;\n",
              "    }\n",
              "\n",
              "    .dataframe tbody tr th {\n",
              "        vertical-align: top;\n",
              "    }\n",
              "\n",
              "    .dataframe thead th {\n",
              "        text-align: right;\n",
              "    }\n",
              "</style>\n",
              "<table border=\"1\" class=\"dataframe\">\n",
              "  <thead>\n",
              "    <tr style=\"text-align: right;\">\n",
              "      <th></th>\n",
              "      <th>0</th>\n",
              "    </tr>\n",
              "  </thead>\n",
              "  <tbody>\n",
              "    <tr>\n",
              "      <th>0</th>\n",
              "      <td>radius_mean</td>\n",
              "    </tr>\n",
              "    <tr>\n",
              "      <th>1</th>\n",
              "      <td>texture_mean</td>\n",
              "    </tr>\n",
              "    <tr>\n",
              "      <th>2</th>\n",
              "      <td>perimeter_mean</td>\n",
              "    </tr>\n",
              "    <tr>\n",
              "      <th>3</th>\n",
              "      <td>area_mean</td>\n",
              "    </tr>\n",
              "    <tr>\n",
              "      <th>4</th>\n",
              "      <td>smoothness_mean</td>\n",
              "    </tr>\n",
              "    <tr>\n",
              "      <th>5</th>\n",
              "      <td>compactness_mean</td>\n",
              "    </tr>\n",
              "    <tr>\n",
              "      <th>6</th>\n",
              "      <td>concavity_mean</td>\n",
              "    </tr>\n",
              "    <tr>\n",
              "      <th>7</th>\n",
              "      <td>concave points_mean</td>\n",
              "    </tr>\n",
              "    <tr>\n",
              "      <th>8</th>\n",
              "      <td>symmetry_mean</td>\n",
              "    </tr>\n",
              "    <tr>\n",
              "      <th>9</th>\n",
              "      <td>fractal_dimension_mean</td>\n",
              "    </tr>\n",
              "    <tr>\n",
              "      <th>10</th>\n",
              "      <td>radius_se</td>\n",
              "    </tr>\n",
              "    <tr>\n",
              "      <th>11</th>\n",
              "      <td>texture_se</td>\n",
              "    </tr>\n",
              "    <tr>\n",
              "      <th>12</th>\n",
              "      <td>perimeter_se</td>\n",
              "    </tr>\n",
              "    <tr>\n",
              "      <th>13</th>\n",
              "      <td>area_se</td>\n",
              "    </tr>\n",
              "    <tr>\n",
              "      <th>14</th>\n",
              "      <td>smoothness_se</td>\n",
              "    </tr>\n",
              "    <tr>\n",
              "      <th>15</th>\n",
              "      <td>compactness_se</td>\n",
              "    </tr>\n",
              "    <tr>\n",
              "      <th>16</th>\n",
              "      <td>concavity_se</td>\n",
              "    </tr>\n",
              "    <tr>\n",
              "      <th>17</th>\n",
              "      <td>concave points_se</td>\n",
              "    </tr>\n",
              "    <tr>\n",
              "      <th>18</th>\n",
              "      <td>symmetry_se</td>\n",
              "    </tr>\n",
              "    <tr>\n",
              "      <th>19</th>\n",
              "      <td>fractal_dimension_se</td>\n",
              "    </tr>\n",
              "    <tr>\n",
              "      <th>20</th>\n",
              "      <td>radius_worst</td>\n",
              "    </tr>\n",
              "    <tr>\n",
              "      <th>21</th>\n",
              "      <td>texture_worst</td>\n",
              "    </tr>\n",
              "    <tr>\n",
              "      <th>22</th>\n",
              "      <td>perimeter_worst</td>\n",
              "    </tr>\n",
              "    <tr>\n",
              "      <th>23</th>\n",
              "      <td>area_worst</td>\n",
              "    </tr>\n",
              "    <tr>\n",
              "      <th>24</th>\n",
              "      <td>smoothness_worst</td>\n",
              "    </tr>\n",
              "    <tr>\n",
              "      <th>25</th>\n",
              "      <td>compactness_worst</td>\n",
              "    </tr>\n",
              "    <tr>\n",
              "      <th>26</th>\n",
              "      <td>concavity_worst</td>\n",
              "    </tr>\n",
              "    <tr>\n",
              "      <th>27</th>\n",
              "      <td>concave points_worst</td>\n",
              "    </tr>\n",
              "    <tr>\n",
              "      <th>28</th>\n",
              "      <td>symmetry_worst</td>\n",
              "    </tr>\n",
              "    <tr>\n",
              "      <th>29</th>\n",
              "      <td>fractal_dimension_worst</td>\n",
              "    </tr>\n",
              "  </tbody>\n",
              "</table>\n",
              "</div>"
            ],
            "text/plain": [
              "                          0\n",
              "0               radius_mean\n",
              "1              texture_mean\n",
              "2            perimeter_mean\n",
              "3                 area_mean\n",
              "4           smoothness_mean\n",
              "5          compactness_mean\n",
              "6            concavity_mean\n",
              "7       concave points_mean\n",
              "8             symmetry_mean\n",
              "9    fractal_dimension_mean\n",
              "10                radius_se\n",
              "11               texture_se\n",
              "12             perimeter_se\n",
              "13                  area_se\n",
              "14            smoothness_se\n",
              "15           compactness_se\n",
              "16             concavity_se\n",
              "17        concave points_se\n",
              "18              symmetry_se\n",
              "19     fractal_dimension_se\n",
              "20             radius_worst\n",
              "21            texture_worst\n",
              "22          perimeter_worst\n",
              "23               area_worst\n",
              "24         smoothness_worst\n",
              "25        compactness_worst\n",
              "26          concavity_worst\n",
              "27     concave points_worst\n",
              "28           symmetry_worst\n",
              "29  fractal_dimension_worst"
            ]
          },
          "metadata": {},
          "execution_count": 23
        }
      ]
    },
    {
      "cell_type": "markdown",
      "source": [
        "Based on the forest plot, all features except worst texture and worst symmetry are insignificant because the credible intervals overlap with 0."
      ],
      "metadata": {
        "id": "hMsUic7ZhKTd"
      }
    },
    {
      "cell_type": "markdown",
      "source": [
        "## **Model 2**"
      ],
      "metadata": {
        "id": "tZuelRomYxD1"
      }
    },
    {
      "cell_type": "markdown",
      "source": [
        "Created by removing unuseful predictors based on the credible intervals overlapping 0 in the full model above."
      ],
      "metadata": {
        "id": "IyEkqJg8gZ2Z"
      }
    },
    {
      "cell_type": "code",
      "source": [
        "# Model 2\n",
        "\n",
        "X_simple = X[['radius_mean','perimeter_mean','area_mean','smoothness_mean',\n",
        "                   'symmetry_mean', 'fractal_dimension_mean', 'texture_mean', 'concavity_mean', \n",
        "                   'compactness_mean', 'concave points_mean']]\n",
        "\n",
        "k_simple = X_simple.shape[1]\n",
        "\n",
        "pd.DataFrame(X_simple)"
      ],
      "metadata": {
        "colab": {
          "base_uri": "https://localhost:8080/",
          "height": 441
        },
        "id": "6Ot4ESTtg6et",
        "outputId": "eee029fb-654c-4b39-c72a-1675fe1c1af1"
      },
      "execution_count": null,
      "outputs": [
        {
          "output_type": "execute_result",
          "data": {
            "text/html": [
              "<div>\n",
              "<style scoped>\n",
              "    .dataframe tbody tr th:only-of-type {\n",
              "        vertical-align: middle;\n",
              "    }\n",
              "\n",
              "    .dataframe tbody tr th {\n",
              "        vertical-align: top;\n",
              "    }\n",
              "\n",
              "    .dataframe thead th {\n",
              "        text-align: right;\n",
              "    }\n",
              "</style>\n",
              "<table border=\"1\" class=\"dataframe\">\n",
              "  <thead>\n",
              "    <tr style=\"text-align: right;\">\n",
              "      <th></th>\n",
              "      <th>radius_mean</th>\n",
              "      <th>perimeter_mean</th>\n",
              "      <th>area_mean</th>\n",
              "      <th>smoothness_mean</th>\n",
              "      <th>symmetry_mean</th>\n",
              "      <th>fractal_dimension_mean</th>\n",
              "      <th>texture_mean</th>\n",
              "      <th>concavity_mean</th>\n",
              "      <th>compactness_mean</th>\n",
              "      <th>concave points_mean</th>\n",
              "    </tr>\n",
              "  </thead>\n",
              "  <tbody>\n",
              "    <tr>\n",
              "      <th>149</th>\n",
              "      <td>-0.109996</td>\n",
              "      <td>-0.158542</td>\n",
              "      <td>-0.198772</td>\n",
              "      <td>-1.204139</td>\n",
              "      <td>-1.236277</td>\n",
              "      <td>-0.991984</td>\n",
              "      <td>-0.321053</td>\n",
              "      <td>-0.753164</td>\n",
              "      <td>-0.769070</td>\n",
              "      <td>-0.919018</td>\n",
              "    </tr>\n",
              "    <tr>\n",
              "      <th>124</th>\n",
              "      <td>-0.215082</td>\n",
              "      <td>-0.241747</td>\n",
              "      <td>-0.288361</td>\n",
              "      <td>-1.794101</td>\n",
              "      <td>-1.422476</td>\n",
              "      <td>-0.647506</td>\n",
              "      <td>-0.674768</td>\n",
              "      <td>-0.098925</td>\n",
              "      <td>-0.589220</td>\n",
              "      <td>-0.539588</td>\n",
              "    </tr>\n",
              "    <tr>\n",
              "      <th>421</th>\n",
              "      <td>0.159817</td>\n",
              "      <td>0.257479</td>\n",
              "      <td>0.003444</td>\n",
              "      <td>0.479635</td>\n",
              "      <td>1.001751</td>\n",
              "      <td>1.596561</td>\n",
              "      <td>-1.235591</td>\n",
              "      <td>0.705598</td>\n",
              "      <td>1.502076</td>\n",
              "      <td>0.363201</td>\n",
              "    </tr>\n",
              "    <tr>\n",
              "      <th>195</th>\n",
              "      <td>-0.345728</td>\n",
              "      <td>-0.388796</td>\n",
              "      <td>-0.393877</td>\n",
              "      <td>-1.206274</td>\n",
              "      <td>0.063458</td>\n",
              "      <td>-0.868652</td>\n",
              "      <td>-0.688730</td>\n",
              "      <td>-0.628619</td>\n",
              "      <td>-0.960480</td>\n",
              "      <td>-0.648697</td>\n",
              "    </tr>\n",
              "    <tr>\n",
              "      <th>545</th>\n",
              "      <td>-0.144078</td>\n",
              "      <td>-0.196849</td>\n",
              "      <td>-0.232332</td>\n",
              "      <td>-0.277565</td>\n",
              "      <td>-0.538947</td>\n",
              "      <td>-0.678694</td>\n",
              "      <td>0.916946</td>\n",
              "      <td>-0.741488</td>\n",
              "      <td>-0.698760</td>\n",
              "      <td>-0.631673</td>\n",
              "    </tr>\n",
              "    <tr>\n",
              "      <th>...</th>\n",
              "      <td>...</td>\n",
              "      <td>...</td>\n",
              "      <td>...</td>\n",
              "      <td>...</td>\n",
              "      <td>...</td>\n",
              "      <td>...</td>\n",
              "      <td>...</td>\n",
              "      <td>...</td>\n",
              "      <td>...</td>\n",
              "      <td>...</td>\n",
              "    </tr>\n",
              "    <tr>\n",
              "      <th>71</th>\n",
              "      <td>-1.488033</td>\n",
              "      <td>-1.366651</td>\n",
              "      <td>-1.168611</td>\n",
              "      <td>0.104593</td>\n",
              "      <td>0.329977</td>\n",
              "      <td>3.827870</td>\n",
              "      <td>-1.082004</td>\n",
              "      <td>-0.034392</td>\n",
              "      <td>0.924055</td>\n",
              "      <td>-0.521016</td>\n",
              "    </tr>\n",
              "    <tr>\n",
              "      <th>106</th>\n",
              "      <td>-0.706426</td>\n",
              "      <td>-0.691956</td>\n",
              "      <td>-0.689379</td>\n",
              "      <td>1.269571</td>\n",
              "      <td>-0.038768</td>\n",
              "      <td>0.340564</td>\n",
              "      <td>-0.223317</td>\n",
              "      <td>-0.227236</td>\n",
              "      <td>-0.050051</td>\n",
              "      <td>-0.362899</td>\n",
              "    </tr>\n",
              "    <tr>\n",
              "      <th>270</th>\n",
              "      <td>0.046211</td>\n",
              "      <td>-0.068748</td>\n",
              "      <td>-0.063392</td>\n",
              "      <td>-2.282296</td>\n",
              "      <td>-1.108494</td>\n",
              "      <td>-1.281175</td>\n",
              "      <td>-0.574704</td>\n",
              "      <td>-1.023849</td>\n",
              "      <td>-1.470464</td>\n",
              "      <td>-1.100607</td>\n",
              "    </tr>\n",
              "    <tr>\n",
              "      <th>435</th>\n",
              "      <td>-0.041833</td>\n",
              "      <td>-0.034972</td>\n",
              "      <td>-0.157532</td>\n",
              "      <td>0.686015</td>\n",
              "      <td>-0.520693</td>\n",
              "      <td>0.374586</td>\n",
              "      <td>0.076875</td>\n",
              "      <td>0.298817</td>\n",
              "      <td>0.169787</td>\n",
              "      <td>0.405245</td>\n",
              "    </tr>\n",
              "    <tr>\n",
              "      <th>102</th>\n",
              "      <td>-0.553058</td>\n",
              "      <td>-0.607516</td>\n",
              "      <td>-0.557982</td>\n",
              "      <td>-1.155035</td>\n",
              "      <td>-0.265127</td>\n",
              "      <td>-0.854476</td>\n",
              "      <td>0.286311</td>\n",
              "      <td>-0.815688</td>\n",
              "      <td>-1.212155</td>\n",
              "      <td>-0.805266</td>\n",
              "    </tr>\n",
              "  </tbody>\n",
              "</table>\n",
              "<p>398 rows × 10 columns</p>\n",
              "</div>"
            ],
            "text/plain": [
              "     radius_mean  perimeter_mean  ...  compactness_mean  concave points_mean\n",
              "149    -0.109996       -0.158542  ...         -0.769070            -0.919018\n",
              "124    -0.215082       -0.241747  ...         -0.589220            -0.539588\n",
              "421     0.159817        0.257479  ...          1.502076             0.363201\n",
              "195    -0.345728       -0.388796  ...         -0.960480            -0.648697\n",
              "545    -0.144078       -0.196849  ...         -0.698760            -0.631673\n",
              "..           ...             ...  ...               ...                  ...\n",
              "71     -1.488033       -1.366651  ...          0.924055            -0.521016\n",
              "106    -0.706426       -0.691956  ...         -0.050051            -0.362899\n",
              "270     0.046211       -0.068748  ...         -1.470464            -1.100607\n",
              "435    -0.041833       -0.034972  ...          0.169787             0.405245\n",
              "102    -0.553058       -0.607516  ...         -1.212155            -0.805266\n",
              "\n",
              "[398 rows x 10 columns]"
            ]
          },
          "metadata": {},
          "execution_count": 92
        }
      ]
    },
    {
      "cell_type": "code",
      "metadata": {
        "id": "TjuoRWYld_Ga",
        "colab": {
          "base_uri": "https://localhost:8080/",
          "height": 179
        },
        "outputId": "9f0ff697-36e1-4e28-acde-e7fa75b4c6b1"
      },
      "source": [
        "with pm.Model() as cancer_simple_model:\n",
        "  \n",
        "  data2 = pm.Data(\"data2\", X_simple)\n",
        "\n",
        "  beta0 = pm.Normal('beta0', mu=0, sd=10)\n",
        "  beta = pm.MvNormal('beta', mu=np.zeros(k_simple), cov=np.eye(k_simple), shape=k_simple)\n",
        "\n",
        "  mu = beta0 + pm.math.dot(data2, beta)\n",
        "  theta = pm.Deterministic('theta', pm.invlogit(mu))\n",
        "\n",
        "  Y = pm.Bernoulli('Y', p=theta, observed=y)\n",
        "\n",
        "  trace_simple = pm.sample(10000, cores = 8)"
      ],
      "execution_count": null,
      "outputs": [
        {
          "output_type": "stream",
          "name": "stderr",
          "text": [
            "/usr/local/lib/python3.7/dist-packages/ipykernel_launcher.py:13: FutureWarning: In v4.0, pm.sample will return an `arviz.InferenceData` object instead of a `MultiTrace` by default. You can pass return_inferencedata=True or return_inferencedata=False to be safe and silence this warning.\n",
            "  del sys.path[0]\n",
            "Auto-assigning NUTS sampler...\n",
            "Initializing NUTS using jitter+adapt_diag...\n",
            "Multiprocess sampling (8 chains in 8 jobs)\n",
            "NUTS: [beta, beta0]\n"
          ]
        },
        {
          "output_type": "display_data",
          "data": {
            "text/html": [
              "\n",
              "    <div>\n",
              "        <style>\n",
              "            /* Turns off some styling */\n",
              "            progress {\n",
              "                /* gets rid of default border in Firefox and Opera. */\n",
              "                border: none;\n",
              "                /* Needs to be in here for Safari polyfill so background images work as expected. */\n",
              "                background-size: auto;\n",
              "            }\n",
              "            .progress-bar-interrupted, .progress-bar-interrupted::-webkit-progress-bar {\n",
              "                background: #F44336;\n",
              "            }\n",
              "        </style>\n",
              "      <progress value='88000' class='' max='88000' style='width:300px; height:20px; vertical-align: middle;'></progress>\n",
              "      100.00% [88000/88000 07:16<00:00 Sampling 8 chains, 0 divergences]\n",
              "    </div>\n",
              "    "
            ],
            "text/plain": [
              "<IPython.core.display.HTML object>"
            ]
          },
          "metadata": {}
        },
        {
          "output_type": "stream",
          "name": "stderr",
          "text": [
            "Sampling 8 chains for 1_000 tune and 10_000 draw iterations (8_000 + 80_000 draws total) took 438 seconds.\n"
          ]
        }
      ]
    },
    {
      "cell_type": "code",
      "source": [
        "pm.model_to_graphviz(cancer_simple_model)"
      ],
      "metadata": {
        "id": "IMZjCJkMceHY",
        "outputId": "d8039304-96b7-47bc-8daa-da0512c7f0cc",
        "colab": {
          "base_uri": "https://localhost:8080/",
          "height": 487
        }
      },
      "execution_count": null,
      "outputs": [
        {
          "output_type": "execute_result",
          "data": {
            "text/plain": [
              "<graphviz.dot.Digraph at 0x7fbd65f0bdd0>"
            ],
            "image/svg+xml": "<?xml version=\"1.0\" encoding=\"UTF-8\" standalone=\"no\"?>\n<!DOCTYPE svg PUBLIC \"-//W3C//DTD SVG 1.1//EN\"\n \"http://www.w3.org/Graphics/SVG/1.1/DTD/svg11.dtd\">\n<!-- Generated by graphviz version 2.40.1 (20161225.0304)\n -->\n<!-- Title: %3 Pages: 1 -->\n<svg width=\"328pt\" height=\"349pt\"\n viewBox=\"0.00 0.00 328.00 348.91\" xmlns=\"http://www.w3.org/2000/svg\" xmlns:xlink=\"http://www.w3.org/1999/xlink\">\n<g id=\"graph0\" class=\"graph\" transform=\"scale(1 1) rotate(0) translate(4 344.9066)\">\n<title>%3</title>\n<polygon fill=\"#ffffff\" stroke=\"transparent\" points=\"-4,4 -4,-344.9066 324,-344.9066 324,4 -4,4\"/>\n<g id=\"clust1\" class=\"cluster\">\n<title>cluster398 x 10</title>\n<path fill=\"none\" stroke=\"#000000\" d=\"M20,-229.93C20,-229.93 66,-229.93 66,-229.93 72,-229.93 78,-235.93 78,-241.93 78,-241.93 78,-309.93 78,-309.93 78,-315.93 72,-321.93 66,-321.93 66,-321.93 20,-321.93 20,-321.93 14,-321.93 8,-315.93 8,-309.93 8,-309.93 8,-241.93 8,-241.93 8,-235.93 14,-229.93 20,-229.93\"/>\n<text text-anchor=\"middle\" x=\"43.5\" y=\"-237.73\" font-family=\"Times,serif\" font-size=\"14.00\" fill=\"#000000\">398 x 10</text>\n</g>\n<g id=\"clust2\" class=\"cluster\">\n<title>cluster10</title>\n<path fill=\"none\" stroke=\"#000000\" d=\"M194,-218.9533C194,-218.9533 300,-218.9533 300,-218.9533 306,-218.9533 312,-224.9533 312,-230.9533 312,-230.9533 312,-320.9066 312,-320.9066 312,-326.9066 306,-332.9066 300,-332.9066 300,-332.9066 194,-332.9066 194,-332.9066 188,-332.9066 182,-326.9066 182,-320.9066 182,-320.9066 182,-230.9533 182,-230.9533 182,-224.9533 188,-218.9533 194,-218.9533\"/>\n<text text-anchor=\"middle\" x=\"296\" y=\"-226.7533\" font-family=\"Times,serif\" font-size=\"14.00\" fill=\"#000000\">10</text>\n</g>\n<g id=\"clust3\" class=\"cluster\">\n<title>cluster398</title>\n<path fill=\"none\" stroke=\"#000000\" d=\"M84,-8C84,-8 176,-8 176,-8 182,-8 188,-14 188,-20 188,-20 188,-198.9533 188,-198.9533 188,-204.9533 182,-210.9533 176,-210.9533 176,-210.9533 84,-210.9533 84,-210.9533 78,-210.9533 72,-204.9533 72,-198.9533 72,-198.9533 72,-20 72,-20 72,-14 78,-8 84,-8\"/>\n<text text-anchor=\"middle\" x=\"168.5\" y=\"-15.8\" font-family=\"Times,serif\" font-size=\"14.00\" fill=\"#000000\">398</text>\n</g>\n<!-- data2 -->\n<g id=\"node1\" class=\"node\">\n<title>data2</title>\n<path fill=\"#d3d3d3\" stroke=\"#000000\" d=\"M58,-313.93C58,-313.93 28,-313.93 28,-313.93 22,-313.93 16,-307.93 16,-301.93 16,-301.93 16,-272.93 16,-272.93 16,-266.93 22,-260.93 28,-260.93 28,-260.93 58,-260.93 58,-260.93 64,-260.93 70,-266.93 70,-272.93 70,-272.93 70,-301.93 70,-301.93 70,-307.93 64,-313.93 58,-313.93\"/>\n<text text-anchor=\"middle\" x=\"43\" y=\"-298.73\" font-family=\"Times,serif\" font-size=\"14.00\" fill=\"#000000\">data2</text>\n<text text-anchor=\"middle\" x=\"43\" y=\"-283.73\" font-family=\"Times,serif\" font-size=\"14.00\" fill=\"#000000\">~</text>\n<text text-anchor=\"middle\" x=\"43\" y=\"-268.73\" font-family=\"Times,serif\" font-size=\"14.00\" fill=\"#000000\">Data</text>\n</g>\n<!-- theta -->\n<g id=\"node4\" class=\"node\">\n<title>theta</title>\n<polygon fill=\"none\" stroke=\"#000000\" points=\"176,-202.9533 84,-202.9533 84,-149.9533 176,-149.9533 176,-202.9533\"/>\n<text text-anchor=\"middle\" x=\"130\" y=\"-187.7533\" font-family=\"Times,serif\" font-size=\"14.00\" fill=\"#000000\">theta</text>\n<text text-anchor=\"middle\" x=\"130\" y=\"-172.7533\" font-family=\"Times,serif\" font-size=\"14.00\" fill=\"#000000\">~</text>\n<text text-anchor=\"middle\" x=\"130\" y=\"-157.7533\" font-family=\"Times,serif\" font-size=\"14.00\" fill=\"#000000\">Deterministic</text>\n</g>\n<!-- data2&#45;&gt;theta -->\n<g id=\"edge2\" class=\"edge\">\n<title>data2&#45;&gt;theta</title>\n<path fill=\"none\" stroke=\"#000000\" d=\"M53.9493,-260.9281C60.1792,-247.5788 68.7806,-231.5898 79,-218.9533 81.3871,-216.0016 84.0043,-213.1058 86.7527,-210.3006\"/>\n<polygon fill=\"#000000\" stroke=\"#000000\" points=\"89.4618,-212.5524 94.2667,-203.1098 84.622,-207.4951 89.4618,-212.5524\"/>\n</g>\n<!-- beta0 -->\n<g id=\"node2\" class=\"node\">\n<title>beta0</title>\n<ellipse fill=\"none\" stroke=\"#000000\" cx=\"130\" cy=\"-287.43\" rx=\"42.3529\" ry=\"37.4533\"/>\n<text text-anchor=\"middle\" x=\"130\" y=\"-298.73\" font-family=\"Times,serif\" font-size=\"14.00\" fill=\"#000000\">beta0</text>\n<text text-anchor=\"middle\" x=\"130\" y=\"-283.73\" font-family=\"Times,serif\" font-size=\"14.00\" fill=\"#000000\">~</text>\n<text text-anchor=\"middle\" x=\"130\" y=\"-268.73\" font-family=\"Times,serif\" font-size=\"14.00\" fill=\"#000000\">Normal</text>\n</g>\n<!-- beta0&#45;&gt;theta -->\n<g id=\"edge3\" class=\"edge\">\n<title>beta0&#45;&gt;theta</title>\n<path fill=\"none\" stroke=\"#000000\" d=\"M130,-249.8583C130,-238.1113 130,-225.1642 130,-213.4566\"/>\n<polygon fill=\"#000000\" stroke=\"#000000\" points=\"133.5001,-213.1232 130,-203.1232 126.5001,-213.1233 133.5001,-213.1232\"/>\n</g>\n<!-- beta -->\n<g id=\"node3\" class=\"node\">\n<title>beta</title>\n<ellipse fill=\"none\" stroke=\"#000000\" cx=\"247\" cy=\"-287.43\" rx=\"56.6372\" ry=\"37.4533\"/>\n<text text-anchor=\"middle\" x=\"247\" y=\"-298.73\" font-family=\"Times,serif\" font-size=\"14.00\" fill=\"#000000\">beta</text>\n<text text-anchor=\"middle\" x=\"247\" y=\"-283.73\" font-family=\"Times,serif\" font-size=\"14.00\" fill=\"#000000\">~</text>\n<text text-anchor=\"middle\" x=\"247\" y=\"-268.73\" font-family=\"Times,serif\" font-size=\"14.00\" fill=\"#000000\">MvNormal</text>\n</g>\n<!-- beta&#45;&gt;theta -->\n<g id=\"edge1\" class=\"edge\">\n<title>beta&#45;&gt;theta</title>\n<path fill=\"none\" stroke=\"#000000\" d=\"M217.4707,-255.3564C206.3135,-243.6251 193.3311,-230.4243 181,-218.9533 177.7313,-215.9126 174.2842,-212.8191 170.7874,-209.7583\"/>\n<polygon fill=\"#000000\" stroke=\"#000000\" points=\"172.9654,-207.015 163.1033,-203.1434 168.3985,-212.3201 172.9654,-207.015\"/>\n</g>\n<!-- Y -->\n<g id=\"node5\" class=\"node\">\n<title>Y</title>\n<ellipse fill=\"#d3d3d3\" stroke=\"#000000\" cx=\"130\" cy=\"-76.4767\" rx=\"50.41\" ry=\"37.4533\"/>\n<text text-anchor=\"middle\" x=\"130\" y=\"-87.7767\" font-family=\"Times,serif\" font-size=\"14.00\" fill=\"#000000\">Y</text>\n<text text-anchor=\"middle\" x=\"130\" y=\"-72.7767\" font-family=\"Times,serif\" font-size=\"14.00\" fill=\"#000000\">~</text>\n<text text-anchor=\"middle\" x=\"130\" y=\"-57.7767\" font-family=\"Times,serif\" font-size=\"14.00\" fill=\"#000000\">Bernoulli</text>\n</g>\n<!-- theta&#45;&gt;Y -->\n<g id=\"edge4\" class=\"edge\">\n<title>theta&#45;&gt;Y</title>\n<path fill=\"none\" stroke=\"#000000\" d=\"M130,-149.9239C130,-142.0239 130,-133.113 130,-124.2925\"/>\n<polygon fill=\"#000000\" stroke=\"#000000\" points=\"133.5001,-124.0454 130,-114.0454 126.5001,-124.0455 133.5001,-124.0454\"/>\n</g>\n</g>\n</svg>\n"
          },
          "metadata": {},
          "execution_count": 94
        }
      ]
    },
    {
      "cell_type": "code",
      "source": [
        "# trace plots\n",
        "with cancer_simple_model:\n",
        "  az.plot_trace(trace_simple, var_names=['beta0','beta'])"
      ],
      "metadata": {
        "colab": {
          "base_uri": "https://localhost:8080/",
          "height": 279
        },
        "id": "jnu8U-l8xyok",
        "outputId": "921223f2-98ba-4aed-f6ec-570f3f05fe63"
      },
      "execution_count": null,
      "outputs": [
        {
          "output_type": "display_data",
          "data": {
            "image/png": "[encoded data removed]",
            "text/plain": [
              "<Figure size 864x288 with 4 Axes>"
            ]
          },
          "metadata": {
            "needs_background": "light"
          }
        }
      ]
    },
    {
      "cell_type": "code",
      "source": [
        "with cancer_simple_model:\n",
        "  simple_idata = az.from_pymc3(trace_simple)\n",
        "az.summary(simple_idata, var_names=['beta0','beta'], round_to=2)"
      ],
      "metadata": {
        "colab": {
          "base_uri": "https://localhost:8080/",
          "height": 394
        },
        "id": "77H5jQX0yHJ2",
        "outputId": "f540ff97-8d10-48c8-b1d9-7f3a518bb1e8"
      },
      "execution_count": null,
      "outputs": [
        {
          "output_type": "execute_result",
          "data": {
            "text/html": [
              "<div>\n",
              "<style scoped>\n",
              "    .dataframe tbody tr th:only-of-type {\n",
              "        vertical-align: middle;\n",
              "    }\n",
              "\n",
              "    .dataframe tbody tr th {\n",
              "        vertical-align: top;\n",
              "    }\n",
              "\n",
              "    .dataframe thead th {\n",
              "        text-align: right;\n",
              "    }\n",
              "</style>\n",
              "<table border=\"1\" class=\"dataframe\">\n",
              "  <thead>\n",
              "    <tr style=\"text-align: right;\">\n",
              "      <th></th>\n",
              "      <th>mean</th>\n",
              "      <th>sd</th>\n",
              "      <th>hdi_3%</th>\n",
              "      <th>hdi_97%</th>\n",
              "      <th>mcse_mean</th>\n",
              "      <th>mcse_sd</th>\n",
              "      <th>ess_bulk</th>\n",
              "      <th>ess_tail</th>\n",
              "      <th>r_hat</th>\n",
              "    </tr>\n",
              "  </thead>\n",
              "  <tbody>\n",
              "    <tr>\n",
              "      <th>beta0</th>\n",
              "      <td>-0.52</td>\n",
              "      <td>0.24</td>\n",
              "      <td>-0.98</td>\n",
              "      <td>-0.06</td>\n",
              "      <td>0.0</td>\n",
              "      <td>0.0</td>\n",
              "      <td>80974.62</td>\n",
              "      <td>60410.32</td>\n",
              "      <td>1.0</td>\n",
              "    </tr>\n",
              "    <tr>\n",
              "      <th>beta[0]</th>\n",
              "      <td>0.85</td>\n",
              "      <td>0.83</td>\n",
              "      <td>-0.72</td>\n",
              "      <td>2.38</td>\n",
              "      <td>0.0</td>\n",
              "      <td>0.0</td>\n",
              "      <td>72640.74</td>\n",
              "      <td>55081.83</td>\n",
              "      <td>1.0</td>\n",
              "    </tr>\n",
              "    <tr>\n",
              "      <th>beta[1]</th>\n",
              "      <td>0.78</td>\n",
              "      <td>0.84</td>\n",
              "      <td>-0.80</td>\n",
              "      <td>2.37</td>\n",
              "      <td>0.0</td>\n",
              "      <td>0.0</td>\n",
              "      <td>76590.59</td>\n",
              "      <td>55184.12</td>\n",
              "      <td>1.0</td>\n",
              "    </tr>\n",
              "    <tr>\n",
              "      <th>beta[2]</th>\n",
              "      <td>1.12</td>\n",
              "      <td>0.85</td>\n",
              "      <td>-0.46</td>\n",
              "      <td>2.74</td>\n",
              "      <td>0.0</td>\n",
              "      <td>0.0</td>\n",
              "      <td>74906.49</td>\n",
              "      <td>57424.74</td>\n",
              "      <td>1.0</td>\n",
              "    </tr>\n",
              "    <tr>\n",
              "      <th>beta[3]</th>\n",
              "      <td>1.02</td>\n",
              "      <td>0.38</td>\n",
              "      <td>0.31</td>\n",
              "      <td>1.73</td>\n",
              "      <td>0.0</td>\n",
              "      <td>0.0</td>\n",
              "      <td>72828.01</td>\n",
              "      <td>60495.48</td>\n",
              "      <td>1.0</td>\n",
              "    </tr>\n",
              "    <tr>\n",
              "      <th>beta[4]</th>\n",
              "      <td>0.46</td>\n",
              "      <td>0.29</td>\n",
              "      <td>-0.11</td>\n",
              "      <td>1.00</td>\n",
              "      <td>0.0</td>\n",
              "      <td>0.0</td>\n",
              "      <td>86460.15</td>\n",
              "      <td>56981.10</td>\n",
              "      <td>1.0</td>\n",
              "    </tr>\n",
              "    <tr>\n",
              "      <th>beta[5]</th>\n",
              "      <td>-0.49</td>\n",
              "      <td>0.48</td>\n",
              "      <td>-1.40</td>\n",
              "      <td>0.41</td>\n",
              "      <td>0.0</td>\n",
              "      <td>0.0</td>\n",
              "      <td>68927.00</td>\n",
              "      <td>58323.99</td>\n",
              "      <td>1.0</td>\n",
              "    </tr>\n",
              "    <tr>\n",
              "      <th>beta[6]</th>\n",
              "      <td>1.33</td>\n",
              "      <td>0.25</td>\n",
              "      <td>0.86</td>\n",
              "      <td>1.80</td>\n",
              "      <td>0.0</td>\n",
              "      <td>0.0</td>\n",
              "      <td>81384.97</td>\n",
              "      <td>59167.36</td>\n",
              "      <td>1.0</td>\n",
              "    </tr>\n",
              "    <tr>\n",
              "      <th>beta[7]</th>\n",
              "      <td>1.02</td>\n",
              "      <td>0.53</td>\n",
              "      <td>0.04</td>\n",
              "      <td>2.02</td>\n",
              "      <td>0.0</td>\n",
              "      <td>0.0</td>\n",
              "      <td>68977.27</td>\n",
              "      <td>57935.12</td>\n",
              "      <td>1.0</td>\n",
              "    </tr>\n",
              "    <tr>\n",
              "      <th>beta[8]</th>\n",
              "      <td>-0.46</td>\n",
              "      <td>0.55</td>\n",
              "      <td>-1.49</td>\n",
              "      <td>0.57</td>\n",
              "      <td>0.0</td>\n",
              "      <td>0.0</td>\n",
              "      <td>74282.08</td>\n",
              "      <td>56670.85</td>\n",
              "      <td>1.0</td>\n",
              "    </tr>\n",
              "    <tr>\n",
              "      <th>beta[9]</th>\n",
              "      <td>1.95</td>\n",
              "      <td>0.71</td>\n",
              "      <td>0.63</td>\n",
              "      <td>3.29</td>\n",
              "      <td>0.0</td>\n",
              "      <td>0.0</td>\n",
              "      <td>74666.53</td>\n",
              "      <td>59395.20</td>\n",
              "      <td>1.0</td>\n",
              "    </tr>\n",
              "  </tbody>\n",
              "</table>\n",
              "</div>"
            ],
            "text/plain": [
              "         mean    sd  hdi_3%  hdi_97%  ...  mcse_sd  ess_bulk  ess_tail  r_hat\n",
              "beta0   -0.52  0.24   -0.98    -0.06  ...      0.0  80974.62  60410.32    1.0\n",
              "beta[0]  0.85  0.83   -0.72     2.38  ...      0.0  72640.74  55081.83    1.0\n",
              "beta[1]  0.78  0.84   -0.80     2.37  ...      0.0  76590.59  55184.12    1.0\n",
              "beta[2]  1.12  0.85   -0.46     2.74  ...      0.0  74906.49  57424.74    1.0\n",
              "beta[3]  1.02  0.38    0.31     1.73  ...      0.0  72828.01  60495.48    1.0\n",
              "beta[4]  0.46  0.29   -0.11     1.00  ...      0.0  86460.15  56981.10    1.0\n",
              "beta[5] -0.49  0.48   -1.40     0.41  ...      0.0  68927.00  58323.99    1.0\n",
              "beta[6]  1.33  0.25    0.86     1.80  ...      0.0  81384.97  59167.36    1.0\n",
              "beta[7]  1.02  0.53    0.04     2.02  ...      0.0  68977.27  57935.12    1.0\n",
              "beta[8] -0.46  0.55   -1.49     0.57  ...      0.0  74282.08  56670.85    1.0\n",
              "beta[9]  1.95  0.71    0.63     3.29  ...      0.0  74666.53  59395.20    1.0\n",
              "\n",
              "[11 rows x 9 columns]"
            ]
          },
          "metadata": {},
          "execution_count": 96
        }
      ]
    },
    {
      "cell_type": "code",
      "source": [
        "# forest plots \n",
        "plt.figure(figsize=(6,14))\n",
        "with cancer_simple_model:\n",
        "  az.plot_forest(trace_simple, var_names=['beta0','beta'])\n",
        "  plt.axvline(color='r', linestyle='-')"
      ],
      "metadata": {
        "colab": {
          "base_uri": "https://localhost:8080/",
          "height": 837
        },
        "id": "aT-GaVXDSBu4",
        "outputId": "3a55c912-456b-47c3-ee7e-d87574a3a58c"
      },
      "execution_count": null,
      "outputs": [
        {
          "output_type": "display_data",
          "data": {
            "text/plain": [
              "<Figure size 432x1008 with 0 Axes>"
            ]
          },
          "metadata": {}
        },
        {
          "output_type": "display_data",
          "data": {
            "image/png": "[encoded data removed]",
            "text/plain": [
              "<Figure size 432x993.6 with 1 Axes>"
            ]
          },
          "metadata": {
            "needs_background": "light"
          }
        }
      ]
    },
    {
      "cell_type": "code",
      "source": [
        "pd.DataFrame(X_simple.columns)"
      ],
      "metadata": {
        "colab": {
          "base_uri": "https://localhost:8080/",
          "height": 363
        },
        "id": "EU2umojnW8zX",
        "outputId": "e8e2728c-33fe-4e08-9ca4-95fe0c5cd041"
      },
      "execution_count": null,
      "outputs": [
        {
          "output_type": "execute_result",
          "data": {
            "text/html": [
              "<div>\n",
              "<style scoped>\n",
              "    .dataframe tbody tr th:only-of-type {\n",
              "        vertical-align: middle;\n",
              "    }\n",
              "\n",
              "    .dataframe tbody tr th {\n",
              "        vertical-align: top;\n",
              "    }\n",
              "\n",
              "    .dataframe thead th {\n",
              "        text-align: right;\n",
              "    }\n",
              "</style>\n",
              "<table border=\"1\" class=\"dataframe\">\n",
              "  <thead>\n",
              "    <tr style=\"text-align: right;\">\n",
              "      <th></th>\n",
              "      <th>0</th>\n",
              "    </tr>\n",
              "  </thead>\n",
              "  <tbody>\n",
              "    <tr>\n",
              "      <th>0</th>\n",
              "      <td>radius_mean</td>\n",
              "    </tr>\n",
              "    <tr>\n",
              "      <th>1</th>\n",
              "      <td>perimeter_mean</td>\n",
              "    </tr>\n",
              "    <tr>\n",
              "      <th>2</th>\n",
              "      <td>area_mean</td>\n",
              "    </tr>\n",
              "    <tr>\n",
              "      <th>3</th>\n",
              "      <td>smoothness_mean</td>\n",
              "    </tr>\n",
              "    <tr>\n",
              "      <th>4</th>\n",
              "      <td>symmetry_mean</td>\n",
              "    </tr>\n",
              "    <tr>\n",
              "      <th>5</th>\n",
              "      <td>fractal_dimension_mean</td>\n",
              "    </tr>\n",
              "    <tr>\n",
              "      <th>6</th>\n",
              "      <td>texture_mean</td>\n",
              "    </tr>\n",
              "    <tr>\n",
              "      <th>7</th>\n",
              "      <td>concavity_mean</td>\n",
              "    </tr>\n",
              "    <tr>\n",
              "      <th>8</th>\n",
              "      <td>compactness_mean</td>\n",
              "    </tr>\n",
              "    <tr>\n",
              "      <th>9</th>\n",
              "      <td>concave points_mean</td>\n",
              "    </tr>\n",
              "  </tbody>\n",
              "</table>\n",
              "</div>"
            ],
            "text/plain": [
              "                        0\n",
              "0             radius_mean\n",
              "1          perimeter_mean\n",
              "2               area_mean\n",
              "3         smoothness_mean\n",
              "4           symmetry_mean\n",
              "5  fractal_dimension_mean\n",
              "6            texture_mean\n",
              "7          concavity_mean\n",
              "8        compactness_mean\n",
              "9     concave points_mean"
            ]
          },
          "metadata": {},
          "execution_count": 98
        }
      ]
    },
    {
      "cell_type": "markdown",
      "source": [
        "Improved uncertainty as shown by the credible intervals of this model compared to the full model."
      ],
      "metadata": {
        "id": "0rM-mx3lgjTM"
      }
    },
    {
      "cell_type": "markdown",
      "source": [
        "### **Model 3**: removing the insignificant predictors and selected four predictors"
      ],
      "metadata": {
        "id": "nYQqVhY9QIBW"
      }
    },
    {
      "cell_type": "code",
      "source": [
        "X3 = X[['smoothness_mean','texture_mean','concavity_mean', 'concave points_mean']]\n",
        "\n",
        "k3 = X3.shape[1]\n",
        "\n",
        "pd.DataFrame(X3)"
      ],
      "metadata": {
        "colab": {
          "base_uri": "https://localhost:8080/",
          "height": 424
        },
        "id": "8DxvLwNfXif5",
        "outputId": "055232e2-7445-4eb9-b100-3552fe2fcc8b"
      },
      "execution_count": null,
      "outputs": [
        {
          "output_type": "execute_result",
          "data": {
            "text/html": [
              "<div>\n",
              "<style scoped>\n",
              "    .dataframe tbody tr th:only-of-type {\n",
              "        vertical-align: middle;\n",
              "    }\n",
              "\n",
              "    .dataframe tbody tr th {\n",
              "        vertical-align: top;\n",
              "    }\n",
              "\n",
              "    .dataframe thead th {\n",
              "        text-align: right;\n",
              "    }\n",
              "</style>\n",
              "<table border=\"1\" class=\"dataframe\">\n",
              "  <thead>\n",
              "    <tr style=\"text-align: right;\">\n",
              "      <th></th>\n",
              "      <th>smoothness_mean</th>\n",
              "      <th>texture_mean</th>\n",
              "      <th>concavity_mean</th>\n",
              "      <th>concave points_mean</th>\n",
              "    </tr>\n",
              "  </thead>\n",
              "  <tbody>\n",
              "    <tr>\n",
              "      <th>149</th>\n",
              "      <td>-1.204139</td>\n",
              "      <td>-0.321053</td>\n",
              "      <td>-0.753164</td>\n",
              "      <td>-0.919018</td>\n",
              "    </tr>\n",
              "    <tr>\n",
              "      <th>124</th>\n",
              "      <td>-1.794101</td>\n",
              "      <td>-0.674768</td>\n",
              "      <td>-0.098925</td>\n",
              "      <td>-0.539588</td>\n",
              "    </tr>\n",
              "    <tr>\n",
              "      <th>421</th>\n",
              "      <td>0.479635</td>\n",
              "      <td>-1.235591</td>\n",
              "      <td>0.705598</td>\n",
              "      <td>0.363201</td>\n",
              "    </tr>\n",
              "    <tr>\n",
              "      <th>195</th>\n",
              "      <td>-1.206274</td>\n",
              "      <td>-0.688730</td>\n",
              "      <td>-0.628619</td>\n",
              "      <td>-0.648697</td>\n",
              "    </tr>\n",
              "    <tr>\n",
              "      <th>545</th>\n",
              "      <td>-0.277565</td>\n",
              "      <td>0.916946</td>\n",
              "      <td>-0.741488</td>\n",
              "      <td>-0.631673</td>\n",
              "    </tr>\n",
              "    <tr>\n",
              "      <th>...</th>\n",
              "      <td>...</td>\n",
              "      <td>...</td>\n",
              "      <td>...</td>\n",
              "      <td>...</td>\n",
              "    </tr>\n",
              "    <tr>\n",
              "      <th>71</th>\n",
              "      <td>0.104593</td>\n",
              "      <td>-1.082004</td>\n",
              "      <td>-0.034392</td>\n",
              "      <td>-0.521016</td>\n",
              "    </tr>\n",
              "    <tr>\n",
              "      <th>106</th>\n",
              "      <td>1.269571</td>\n",
              "      <td>-0.223317</td>\n",
              "      <td>-0.227236</td>\n",
              "      <td>-0.362899</td>\n",
              "    </tr>\n",
              "    <tr>\n",
              "      <th>270</th>\n",
              "      <td>-2.282296</td>\n",
              "      <td>-0.574704</td>\n",
              "      <td>-1.023849</td>\n",
              "      <td>-1.100607</td>\n",
              "    </tr>\n",
              "    <tr>\n",
              "      <th>435</th>\n",
              "      <td>0.686015</td>\n",
              "      <td>0.076875</td>\n",
              "      <td>0.298817</td>\n",
              "      <td>0.405245</td>\n",
              "    </tr>\n",
              "    <tr>\n",
              "      <th>102</th>\n",
              "      <td>-1.155035</td>\n",
              "      <td>0.286311</td>\n",
              "      <td>-0.815688</td>\n",
              "      <td>-0.805266</td>\n",
              "    </tr>\n",
              "  </tbody>\n",
              "</table>\n",
              "<p>398 rows × 4 columns</p>\n",
              "</div>"
            ],
            "text/plain": [
              "     smoothness_mean  texture_mean  concavity_mean  concave points_mean\n",
              "149        -1.204139     -0.321053       -0.753164            -0.919018\n",
              "124        -1.794101     -0.674768       -0.098925            -0.539588\n",
              "421         0.479635     -1.235591        0.705598             0.363201\n",
              "195        -1.206274     -0.688730       -0.628619            -0.648697\n",
              "545        -0.277565      0.916946       -0.741488            -0.631673\n",
              "..               ...           ...             ...                  ...\n",
              "71          0.104593     -1.082004       -0.034392            -0.521016\n",
              "106         1.269571     -0.223317       -0.227236            -0.362899\n",
              "270        -2.282296     -0.574704       -1.023849            -1.100607\n",
              "435         0.686015      0.076875        0.298817             0.405245\n",
              "102        -1.155035      0.286311       -0.815688            -0.805266\n",
              "\n",
              "[398 rows x 4 columns]"
            ]
          },
          "metadata": {},
          "execution_count": 99
        }
      ]
    },
    {
      "cell_type": "code",
      "source": [
        "with pm.Model() as model3:\n",
        "\n",
        "  data3 = pm.Data('data3', X3)\n",
        "\n",
        "  beta0 = pm.Normal('beta0', mu=0, sd=10)\n",
        "  beta = pm.MvNormal('beta', mu=np.zeros(k3), cov=np.eye(k3), shape=k3)\n",
        "\n",
        "  mu = beta0 + pm.math.dot(data3, beta)\n",
        "  theta = pm.Deterministic('theta', pm.invlogit(mu))\n",
        "\n",
        "  Y = pm.Bernoulli('Y', p=theta, observed=y)\n",
        "\n",
        "  trace3 = pm.sample(10000, cores=8)"
      ],
      "metadata": {
        "colab": {
          "base_uri": "https://localhost:8080/",
          "height": 179
        },
        "id": "hXPHTMpwYXcn",
        "outputId": "f9d2c09d-0526-425f-9f45-8a834a38e5c3"
      },
      "execution_count": null,
      "outputs": [
        {
          "output_type": "stream",
          "name": "stderr",
          "text": [
            "/usr/local/lib/python3.7/dist-packages/ipykernel_launcher.py:13: FutureWarning: In v4.0, pm.sample will return an `arviz.InferenceData` object instead of a `MultiTrace` by default. You can pass return_inferencedata=True or return_inferencedata=False to be safe and silence this warning.\n",
            "  del sys.path[0]\n",
            "Auto-assigning NUTS sampler...\n",
            "Initializing NUTS using jitter+adapt_diag...\n",
            "Multiprocess sampling (8 chains in 8 jobs)\n",
            "NUTS: [beta, beta0]\n"
          ]
        },
        {
          "output_type": "display_data",
          "data": {
            "text/html": [
              "\n",
              "    <div>\n",
              "        <style>\n",
              "            /* Turns off some styling */\n",
              "            progress {\n",
              "                /* gets rid of default border in Firefox and Opera. */\n",
              "                border: none;\n",
              "                /* Needs to be in here for Safari polyfill so background images work as expected. */\n",
              "                background-size: auto;\n",
              "            }\n",
              "            .progress-bar-interrupted, .progress-bar-interrupted::-webkit-progress-bar {\n",
              "                background: #F44336;\n",
              "            }\n",
              "        </style>\n",
              "      <progress value='88000' class='' max='88000' style='width:300px; height:20px; vertical-align: middle;'></progress>\n",
              "      100.00% [88000/88000 04:01<00:00 Sampling 8 chains, 0 divergences]\n",
              "    </div>\n",
              "    "
            ],
            "text/plain": [
              "<IPython.core.display.HTML object>"
            ]
          },
          "metadata": {}
        },
        {
          "output_type": "stream",
          "name": "stderr",
          "text": [
            "Sampling 8 chains for 1_000 tune and 10_000 draw iterations (8_000 + 80_000 draws total) took 242 seconds.\n"
          ]
        }
      ]
    },
    {
      "cell_type": "code",
      "source": [
        "pm.model_to_graphviz(model3)"
      ],
      "metadata": {
        "colab": {
          "base_uri": "https://localhost:8080/",
          "height": 487
        },
        "id": "xXUXp3cEZUzk",
        "outputId": "4397f555-7f1f-4cb1-95b0-9c74e3b455d6"
      },
      "execution_count": null,
      "outputs": [
        {
          "output_type": "execute_result",
          "data": {
            "text/plain": [
              "<graphviz.dot.Digraph at 0x7fbd671e6050>"
            ],
            "image/svg+xml": "<?xml version=\"1.0\" encoding=\"UTF-8\" standalone=\"no\"?>\n<!DOCTYPE svg PUBLIC \"-//W3C//DTD SVG 1.1//EN\"\n \"http://www.w3.org/Graphics/SVG/1.1/DTD/svg11.dtd\">\n<!-- Generated by graphviz version 2.40.1 (20161225.0304)\n -->\n<!-- Title: %3 Pages: 1 -->\n<svg width=\"328pt\" height=\"349pt\"\n viewBox=\"0.00 0.00 328.00 348.91\" xmlns=\"http://www.w3.org/2000/svg\" xmlns:xlink=\"http://www.w3.org/1999/xlink\">\n<g id=\"graph0\" class=\"graph\" transform=\"scale(1 1) rotate(0) translate(4 344.9066)\">\n<title>%3</title>\n<polygon fill=\"#ffffff\" stroke=\"transparent\" points=\"-4,4 -4,-344.9066 324,-344.9066 324,4 -4,4\"/>\n<g id=\"clust1\" class=\"cluster\">\n<title>cluster398 x 4</title>\n<path fill=\"none\" stroke=\"#000000\" d=\"M20,-229.93C20,-229.93 66,-229.93 66,-229.93 72,-229.93 78,-235.93 78,-241.93 78,-241.93 78,-309.93 78,-309.93 78,-315.93 72,-321.93 66,-321.93 66,-321.93 20,-321.93 20,-321.93 14,-321.93 8,-315.93 8,-309.93 8,-309.93 8,-241.93 8,-241.93 8,-235.93 14,-229.93 20,-229.93\"/>\n<text text-anchor=\"middle\" x=\"47\" y=\"-237.73\" font-family=\"Times,serif\" font-size=\"14.00\" fill=\"#000000\">398 x 4</text>\n</g>\n<g id=\"clust3\" class=\"cluster\">\n<title>cluster398</title>\n<path fill=\"none\" stroke=\"#000000\" d=\"M84,-8C84,-8 176,-8 176,-8 182,-8 188,-14 188,-20 188,-20 188,-198.9533 188,-198.9533 188,-204.9533 182,-210.9533 176,-210.9533 176,-210.9533 84,-210.9533 84,-210.9533 78,-210.9533 72,-204.9533 72,-198.9533 72,-198.9533 72,-20 72,-20 72,-14 78,-8 84,-8\"/>\n<text text-anchor=\"middle\" x=\"168.5\" y=\"-15.8\" font-family=\"Times,serif\" font-size=\"14.00\" fill=\"#000000\">398</text>\n</g>\n<g id=\"clust2\" class=\"cluster\">\n<title>cluster4</title>\n<path fill=\"none\" stroke=\"#000000\" d=\"M194,-218.9533C194,-218.9533 300,-218.9533 300,-218.9533 306,-218.9533 312,-224.9533 312,-230.9533 312,-230.9533 312,-320.9066 312,-320.9066 312,-326.9066 306,-332.9066 300,-332.9066 300,-332.9066 194,-332.9066 194,-332.9066 188,-332.9066 182,-326.9066 182,-320.9066 182,-320.9066 182,-230.9533 182,-230.9533 182,-224.9533 188,-218.9533 194,-218.9533\"/>\n<text text-anchor=\"middle\" x=\"300\" y=\"-226.7533\" font-family=\"Times,serif\" font-size=\"14.00\" fill=\"#000000\">4</text>\n</g>\n<!-- data3 -->\n<g id=\"node1\" class=\"node\">\n<title>data3</title>\n<path fill=\"#d3d3d3\" stroke=\"#000000\" d=\"M58,-313.93C58,-313.93 28,-313.93 28,-313.93 22,-313.93 16,-307.93 16,-301.93 16,-301.93 16,-272.93 16,-272.93 16,-266.93 22,-260.93 28,-260.93 28,-260.93 58,-260.93 58,-260.93 64,-260.93 70,-266.93 70,-272.93 70,-272.93 70,-301.93 70,-301.93 70,-307.93 64,-313.93 58,-313.93\"/>\n<text text-anchor=\"middle\" x=\"43\" y=\"-298.73\" font-family=\"Times,serif\" font-size=\"14.00\" fill=\"#000000\">data3</text>\n<text text-anchor=\"middle\" x=\"43\" y=\"-283.73\" font-family=\"Times,serif\" font-size=\"14.00\" fill=\"#000000\">~</text>\n<text text-anchor=\"middle\" x=\"43\" y=\"-268.73\" font-family=\"Times,serif\" font-size=\"14.00\" fill=\"#000000\">Data</text>\n</g>\n<!-- theta -->\n<g id=\"node4\" class=\"node\">\n<title>theta</title>\n<polygon fill=\"none\" stroke=\"#000000\" points=\"176,-202.9533 84,-202.9533 84,-149.9533 176,-149.9533 176,-202.9533\"/>\n<text text-anchor=\"middle\" x=\"130\" y=\"-187.7533\" font-family=\"Times,serif\" font-size=\"14.00\" fill=\"#000000\">theta</text>\n<text text-anchor=\"middle\" x=\"130\" y=\"-172.7533\" font-family=\"Times,serif\" font-size=\"14.00\" fill=\"#000000\">~</text>\n<text text-anchor=\"middle\" x=\"130\" y=\"-157.7533\" font-family=\"Times,serif\" font-size=\"14.00\" fill=\"#000000\">Deterministic</text>\n</g>\n<!-- data3&#45;&gt;theta -->\n<g id=\"edge1\" class=\"edge\">\n<title>data3&#45;&gt;theta</title>\n<path fill=\"none\" stroke=\"#000000\" d=\"M53.9493,-260.9281C60.1792,-247.5788 68.7806,-231.5898 79,-218.9533 81.3871,-216.0016 84.0043,-213.1058 86.7527,-210.3006\"/>\n<polygon fill=\"#000000\" stroke=\"#000000\" points=\"89.4618,-212.5524 94.2667,-203.1098 84.622,-207.4951 89.4618,-212.5524\"/>\n</g>\n<!-- beta0 -->\n<g id=\"node2\" class=\"node\">\n<title>beta0</title>\n<ellipse fill=\"none\" stroke=\"#000000\" cx=\"130\" cy=\"-287.43\" rx=\"42.3529\" ry=\"37.4533\"/>\n<text text-anchor=\"middle\" x=\"130\" y=\"-298.73\" font-family=\"Times,serif\" font-size=\"14.00\" fill=\"#000000\">beta0</text>\n<text text-anchor=\"middle\" x=\"130\" y=\"-283.73\" font-family=\"Times,serif\" font-size=\"14.00\" fill=\"#000000\">~</text>\n<text text-anchor=\"middle\" x=\"130\" y=\"-268.73\" font-family=\"Times,serif\" font-size=\"14.00\" fill=\"#000000\">Normal</text>\n</g>\n<!-- beta0&#45;&gt;theta -->\n<g id=\"edge3\" class=\"edge\">\n<title>beta0&#45;&gt;theta</title>\n<path fill=\"none\" stroke=\"#000000\" d=\"M130,-249.8583C130,-238.1113 130,-225.1642 130,-213.4566\"/>\n<polygon fill=\"#000000\" stroke=\"#000000\" points=\"133.5001,-213.1232 130,-203.1232 126.5001,-213.1233 133.5001,-213.1232\"/>\n</g>\n<!-- beta -->\n<g id=\"node3\" class=\"node\">\n<title>beta</title>\n<ellipse fill=\"none\" stroke=\"#000000\" cx=\"247\" cy=\"-287.43\" rx=\"56.6372\" ry=\"37.4533\"/>\n<text text-anchor=\"middle\" x=\"247\" y=\"-298.73\" font-family=\"Times,serif\" font-size=\"14.00\" fill=\"#000000\">beta</text>\n<text text-anchor=\"middle\" x=\"247\" y=\"-283.73\" font-family=\"Times,serif\" font-size=\"14.00\" fill=\"#000000\">~</text>\n<text text-anchor=\"middle\" x=\"247\" y=\"-268.73\" font-family=\"Times,serif\" font-size=\"14.00\" fill=\"#000000\">MvNormal</text>\n</g>\n<!-- beta&#45;&gt;theta -->\n<g id=\"edge2\" class=\"edge\">\n<title>beta&#45;&gt;theta</title>\n<path fill=\"none\" stroke=\"#000000\" d=\"M217.4707,-255.3564C206.3135,-243.6251 193.3311,-230.4243 181,-218.9533 177.7313,-215.9126 174.2842,-212.8191 170.7874,-209.7583\"/>\n<polygon fill=\"#000000\" stroke=\"#000000\" points=\"172.9654,-207.015 163.1033,-203.1434 168.3985,-212.3201 172.9654,-207.015\"/>\n</g>\n<!-- Y -->\n<g id=\"node5\" class=\"node\">\n<title>Y</title>\n<ellipse fill=\"#d3d3d3\" stroke=\"#000000\" cx=\"130\" cy=\"-76.4767\" rx=\"50.41\" ry=\"37.4533\"/>\n<text text-anchor=\"middle\" x=\"130\" y=\"-87.7767\" font-family=\"Times,serif\" font-size=\"14.00\" fill=\"#000000\">Y</text>\n<text text-anchor=\"middle\" x=\"130\" y=\"-72.7767\" font-family=\"Times,serif\" font-size=\"14.00\" fill=\"#000000\">~</text>\n<text text-anchor=\"middle\" x=\"130\" y=\"-57.7767\" font-family=\"Times,serif\" font-size=\"14.00\" fill=\"#000000\">Bernoulli</text>\n</g>\n<!-- theta&#45;&gt;Y -->\n<g id=\"edge4\" class=\"edge\">\n<title>theta&#45;&gt;Y</title>\n<path fill=\"none\" stroke=\"#000000\" d=\"M130,-149.9239C130,-142.0239 130,-133.113 130,-124.2925\"/>\n<polygon fill=\"#000000\" stroke=\"#000000\" points=\"133.5001,-124.0454 130,-114.0454 126.5001,-124.0455 133.5001,-124.0454\"/>\n</g>\n</g>\n</svg>\n"
          },
          "metadata": {},
          "execution_count": 101
        }
      ]
    },
    {
      "cell_type": "code",
      "source": [
        "with model3:\n",
        "  model3_idata = az.from_pymc3(trace3)\n",
        "az.summary(model3_idata, var_names=['beta0','beta'], round_to=2)"
      ],
      "metadata": {
        "colab": {
          "base_uri": "https://localhost:8080/",
          "height": 206
        },
        "id": "C44pdz84ZSCq",
        "outputId": "45b5708c-3de7-46f4-84ed-93dfa8eb6d7c"
      },
      "execution_count": null,
      "outputs": [
        {
          "output_type": "execute_result",
          "data": {
            "text/html": [
              "<div>\n",
              "<style scoped>\n",
              "    .dataframe tbody tr th:only-of-type {\n",
              "        vertical-align: middle;\n",
              "    }\n",
              "\n",
              "    .dataframe tbody tr th {\n",
              "        vertical-align: top;\n",
              "    }\n",
              "\n",
              "    .dataframe thead th {\n",
              "        text-align: right;\n",
              "    }\n",
              "</style>\n",
              "<table border=\"1\" class=\"dataframe\">\n",
              "  <thead>\n",
              "    <tr style=\"text-align: right;\">\n",
              "      <th></th>\n",
              "      <th>mean</th>\n",
              "      <th>sd</th>\n",
              "      <th>hdi_3%</th>\n",
              "      <th>hdi_97%</th>\n",
              "      <th>mcse_mean</th>\n",
              "      <th>mcse_sd</th>\n",
              "      <th>ess_bulk</th>\n",
              "      <th>ess_tail</th>\n",
              "      <th>r_hat</th>\n",
              "    </tr>\n",
              "  </thead>\n",
              "  <tbody>\n",
              "    <tr>\n",
              "      <th>beta0</th>\n",
              "      <td>-0.60</td>\n",
              "      <td>0.19</td>\n",
              "      <td>-0.96</td>\n",
              "      <td>-0.23</td>\n",
              "      <td>0.0</td>\n",
              "      <td>0.0</td>\n",
              "      <td>69976.05</td>\n",
              "      <td>57458.04</td>\n",
              "      <td>1.0</td>\n",
              "    </tr>\n",
              "    <tr>\n",
              "      <th>beta[0]</th>\n",
              "      <td>-0.28</td>\n",
              "      <td>0.24</td>\n",
              "      <td>-0.72</td>\n",
              "      <td>0.17</td>\n",
              "      <td>0.0</td>\n",
              "      <td>0.0</td>\n",
              "      <td>68287.32</td>\n",
              "      <td>54534.00</td>\n",
              "      <td>1.0</td>\n",
              "    </tr>\n",
              "    <tr>\n",
              "      <th>beta[1]</th>\n",
              "      <td>1.04</td>\n",
              "      <td>0.21</td>\n",
              "      <td>0.66</td>\n",
              "      <td>1.45</td>\n",
              "      <td>0.0</td>\n",
              "      <td>0.0</td>\n",
              "      <td>71224.54</td>\n",
              "      <td>58863.26</td>\n",
              "      <td>1.0</td>\n",
              "    </tr>\n",
              "    <tr>\n",
              "      <th>beta[2]</th>\n",
              "      <td>-0.24</td>\n",
              "      <td>0.36</td>\n",
              "      <td>-0.94</td>\n",
              "      <td>0.44</td>\n",
              "      <td>0.0</td>\n",
              "      <td>0.0</td>\n",
              "      <td>62178.35</td>\n",
              "      <td>56077.04</td>\n",
              "      <td>1.0</td>\n",
              "    </tr>\n",
              "    <tr>\n",
              "      <th>beta[3]</th>\n",
              "      <td>4.25</td>\n",
              "      <td>0.51</td>\n",
              "      <td>3.28</td>\n",
              "      <td>5.18</td>\n",
              "      <td>0.0</td>\n",
              "      <td>0.0</td>\n",
              "      <td>59436.91</td>\n",
              "      <td>53517.75</td>\n",
              "      <td>1.0</td>\n",
              "    </tr>\n",
              "  </tbody>\n",
              "</table>\n",
              "</div>"
            ],
            "text/plain": [
              "         mean    sd  hdi_3%  hdi_97%  ...  mcse_sd  ess_bulk  ess_tail  r_hat\n",
              "beta0   -0.60  0.19   -0.96    -0.23  ...      0.0  69976.05  57458.04    1.0\n",
              "beta[0] -0.28  0.24   -0.72     0.17  ...      0.0  68287.32  54534.00    1.0\n",
              "beta[1]  1.04  0.21    0.66     1.45  ...      0.0  71224.54  58863.26    1.0\n",
              "beta[2] -0.24  0.36   -0.94     0.44  ...      0.0  62178.35  56077.04    1.0\n",
              "beta[3]  4.25  0.51    3.28     5.18  ...      0.0  59436.91  53517.75    1.0\n",
              "\n",
              "[5 rows x 9 columns]"
            ]
          },
          "metadata": {},
          "execution_count": 102
        }
      ]
    },
    {
      "cell_type": "code",
      "source": [
        "# trace plots\n",
        "with model3:\n",
        "  az.plot_trace(trace3, var_names=['beta0','beta'])"
      ],
      "metadata": {
        "colab": {
          "base_uri": "https://localhost:8080/",
          "height": 279
        },
        "id": "G0WWUQaOZVoz",
        "outputId": "6fa186f3-5adf-491a-e365-01a192eceac6"
      },
      "execution_count": null,
      "outputs": [
        {
          "output_type": "display_data",
          "data": {
            "image/png": "[encoded data removed]",
            "text/plain": [
              "<Figure size 864x288 with 4 Axes>"
            ]
          },
          "metadata": {
            "needs_background": "light"
          }
        }
      ]
    },
    {
      "cell_type": "code",
      "source": [
        "# forest plots \n",
        "plt.figure(figsize=(6,14))\n",
        "with model3:\n",
        "  az.plot_forest(trace3, var_names=['beta0','beta'])\n",
        "  plt.axvline(color='r', linestyle='-')"
      ],
      "metadata": {
        "colab": {
          "base_uri": "https://localhost:8080/",
          "height": 576
        },
        "id": "NekrZtIm1GHp",
        "outputId": "76234de6-efac-44ce-f983-d7be393f6cf6"
      },
      "execution_count": null,
      "outputs": [
        {
          "output_type": "display_data",
          "data": {
            "text/plain": [
              "<Figure size 432x1008 with 0 Axes>"
            ]
          },
          "metadata": {}
        },
        {
          "output_type": "display_data",
          "data": {
            "image/png": "[encoded data removed]",
            "text/plain": [
              "<Figure size 432x648 with 1 Axes>"
            ]
          },
          "metadata": {
            "needs_background": "light"
          }
        }
      ]
    },
    {
      "cell_type": "markdown",
      "source": [
        "### Calculate the WAIC for each model"
      ],
      "metadata": {
        "id": "WzIe1NjB0CK_"
      }
    },
    {
      "cell_type": "code",
      "source": [
        "cmp_cancer = az.compare({'main_model':trace_main, 'model_2':trace_simple, 'model_3':trace3}, \n",
        "                        ic='WAIC', scale='deviance')\n",
        "cmp_cancer"
      ],
      "metadata": {
        "colab": {
          "base_uri": "https://localhost:8080/",
          "height": 476
        },
        "id": "Vmpj0_PGCcRX",
        "outputId": "8bf1386c-d215-4970-acd5-96c5ae3ec587"
      },
      "execution_count": null,
      "outputs": [
        {
          "output_type": "stream",
          "name": "stderr",
          "text": [
            "Got error No model on context stack. trying to find log_likelihood in translation.\n",
            "/usr/local/lib/python3.7/dist-packages/arviz/data/io_pymc3_3x.py:102: FutureWarning: Using `from_pymc3` without the model will be deprecated in a future release. Not using the model will return less accurate and less useful results. Make sure you use the model argument or call from_pymc3 within a model context.\n",
            "  FutureWarning,\n",
            "/usr/local/lib/python3.7/dist-packages/arviz/stats/stats.py:1460: UserWarning: For one or more samples the posterior variance of the log predictive densities exceeds 0.4. This could be indication of WAIC starting to fail. \n",
            "See http://arxiv.org/abs/1507.04544 for details\n",
            "  \"For one or more samples the posterior variance of the log predictive \"\n",
            "Got error No model on context stack. trying to find log_likelihood in translation.\n",
            "/usr/local/lib/python3.7/dist-packages/arviz/data/io_pymc3_3x.py:102: FutureWarning: Using `from_pymc3` without the model will be deprecated in a future release. Not using the model will return less accurate and less useful results. Make sure you use the model argument or call from_pymc3 within a model context.\n",
            "  FutureWarning,\n",
            "/usr/local/lib/python3.7/dist-packages/arviz/stats/stats.py:1460: UserWarning: For one or more samples the posterior variance of the log predictive densities exceeds 0.4. This could be indication of WAIC starting to fail. \n",
            "See http://arxiv.org/abs/1507.04544 for details\n",
            "  \"For one or more samples the posterior variance of the log predictive \"\n",
            "Got error No model on context stack. trying to find log_likelihood in translation.\n",
            "/usr/local/lib/python3.7/dist-packages/arviz/data/io_pymc3_3x.py:102: FutureWarning: Using `from_pymc3` without the model will be deprecated in a future release. Not using the model will return less accurate and less useful results. Make sure you use the model argument or call from_pymc3 within a model context.\n",
            "  FutureWarning,\n",
            "/usr/local/lib/python3.7/dist-packages/arviz/stats/stats.py:1460: UserWarning: For one or more samples the posterior variance of the log predictive densities exceeds 0.4. This could be indication of WAIC starting to fail. \n",
            "See http://arxiv.org/abs/1507.04544 for details\n",
            "  \"For one or more samples the posterior variance of the log predictive \"\n"
          ]
        },
        {
          "output_type": "execute_result",
          "data": {
            "text/html": [
              "<div>\n",
              "<style scoped>\n",
              "    .dataframe tbody tr th:only-of-type {\n",
              "        vertical-align: middle;\n",
              "    }\n",
              "\n",
              "    .dataframe tbody tr th {\n",
              "        vertical-align: top;\n",
              "    }\n",
              "\n",
              "    .dataframe thead th {\n",
              "        text-align: right;\n",
              "    }\n",
              "</style>\n",
              "<table border=\"1\" class=\"dataframe\">\n",
              "  <thead>\n",
              "    <tr style=\"text-align: right;\">\n",
              "      <th></th>\n",
              "      <th>rank</th>\n",
              "      <th>waic</th>\n",
              "      <th>p_waic</th>\n",
              "      <th>d_waic</th>\n",
              "      <th>weight</th>\n",
              "      <th>se</th>\n",
              "      <th>dse</th>\n",
              "      <th>warning</th>\n",
              "      <th>waic_scale</th>\n",
              "    </tr>\n",
              "  </thead>\n",
              "  <tbody>\n",
              "    <tr>\n",
              "      <th>main_model</th>\n",
              "      <td>0</td>\n",
              "      <td>64.969534</td>\n",
              "      <td>8.124594</td>\n",
              "      <td>0.000000</td>\n",
              "      <td>9.855730e-01</td>\n",
              "      <td>15.415355</td>\n",
              "      <td>0.000000</td>\n",
              "      <td>True</td>\n",
              "      <td>deviance</td>\n",
              "    </tr>\n",
              "    <tr>\n",
              "      <th>model_2</th>\n",
              "      <td>1</td>\n",
              "      <td>129.078966</td>\n",
              "      <td>6.388351</td>\n",
              "      <td>64.109432</td>\n",
              "      <td>6.999420e-12</td>\n",
              "      <td>17.576944</td>\n",
              "      <td>12.569693</td>\n",
              "      <td>True</td>\n",
              "      <td>deviance</td>\n",
              "    </tr>\n",
              "    <tr>\n",
              "      <th>model_3</th>\n",
              "      <td>2</td>\n",
              "      <td>152.918930</td>\n",
              "      <td>4.038295</td>\n",
              "      <td>87.949396</td>\n",
              "      <td>1.442696e-02</td>\n",
              "      <td>17.357042</td>\n",
              "      <td>16.024683</td>\n",
              "      <td>True</td>\n",
              "      <td>deviance</td>\n",
              "    </tr>\n",
              "  </tbody>\n",
              "</table>\n",
              "</div>"
            ],
            "text/plain": [
              "            rank        waic    p_waic  ...        dse  warning  waic_scale\n",
              "main_model     0   64.969534  8.124594  ...   0.000000     True    deviance\n",
              "model_2        1  129.078966  6.388351  ...  12.569693     True    deviance\n",
              "model_3        2  152.918930  4.038295  ...  16.024683     True    deviance\n",
              "\n",
              "[3 rows x 9 columns]"
            ]
          },
          "metadata": {},
          "execution_count": 105
        }
      ]
    },
    {
      "cell_type": "code",
      "source": [
        "# Use WAIC to produce a Bayesian model average result. \n",
        "\n",
        "pred_main = pm.sample_posterior_predictive_w(traces=[trace_main], samples=10000,\n",
        "                                             models=[cancer_model])\n",
        "pred_simple = pm.sample_posterior_predictive_w(traces=[trace_simple], samples=10000,\n",
        "                                               models=[cancer_simple_model])\n",
        "pred_3 = pm.sample_posterior_predictive_w(traces=[trace3], samples=10000,\n",
        "                                             models=[model3])\n",
        "pred_bma = pm.sample_posterior_predictive_w(traces=[trace_main, trace_simple, trace3],\n",
        "                                            samples=10000, models=[cancer_model, cancer_simple_model,\n",
        "                                                                   model3],\n",
        "                                            weights=cmp_cancer['weight'])"
      ],
      "metadata": {
        "colab": {
          "base_uri": "https://localhost:8080/",
          "height": 97
        },
        "id": "VEfQJHOhUOwN",
        "outputId": "91f5f841-ee2d-46b6-87ef-1d982bf1be97"
      },
      "execution_count": null,
      "outputs": [
        {
          "output_type": "display_data",
          "data": {
            "text/html": [
              "\n",
              "    <div>\n",
              "        <style>\n",
              "            /* Turns off some styling */\n",
              "            progress {\n",
              "                /* gets rid of default border in Firefox and Opera. */\n",
              "                border: none;\n",
              "                /* Needs to be in here for Safari polyfill so background images work as expected. */\n",
              "                background-size: auto;\n",
              "            }\n",
              "            .progress-bar-interrupted, .progress-bar-interrupted::-webkit-progress-bar {\n",
              "                background: #F44336;\n",
              "            }\n",
              "        </style>\n",
              "      <progress value='10000' class='' max='10000' style='width:300px; height:20px; vertical-align: middle;'></progress>\n",
              "      100.00% [10000/10000 00:18<00:00]\n",
              "    </div>\n",
              "    "
            ],
            "text/plain": [
              "<IPython.core.display.HTML object>"
            ]
          },
          "metadata": {}
        },
        {
          "output_type": "display_data",
          "data": {
            "text/html": [
              "\n",
              "    <div>\n",
              "        <style>\n",
              "            /* Turns off some styling */\n",
              "            progress {\n",
              "                /* gets rid of default border in Firefox and Opera. */\n",
              "                border: none;\n",
              "                /* Needs to be in here for Safari polyfill so background images work as expected. */\n",
              "                background-size: auto;\n",
              "            }\n",
              "            .progress-bar-interrupted, .progress-bar-interrupted::-webkit-progress-bar {\n",
              "                background: #F44336;\n",
              "            }\n",
              "        </style>\n",
              "      <progress value='10000' class='' max='10000' style='width:300px; height:20px; vertical-align: middle;'></progress>\n",
              "      100.00% [10000/10000 00:12<00:00]\n",
              "    </div>\n",
              "    "
            ],
            "text/plain": [
              "<IPython.core.display.HTML object>"
            ]
          },
          "metadata": {}
        },
        {
          "output_type": "display_data",
          "data": {
            "text/html": [
              "\n",
              "    <div>\n",
              "        <style>\n",
              "            /* Turns off some styling */\n",
              "            progress {\n",
              "                /* gets rid of default border in Firefox and Opera. */\n",
              "                border: none;\n",
              "                /* Needs to be in here for Safari polyfill so background images work as expected. */\n",
              "                background-size: auto;\n",
              "            }\n",
              "            .progress-bar-interrupted, .progress-bar-interrupted::-webkit-progress-bar {\n",
              "                background: #F44336;\n",
              "            }\n",
              "        </style>\n",
              "      <progress value='10000' class='' max='10000' style='width:300px; height:20px; vertical-align: middle;'></progress>\n",
              "      100.00% [10000/10000 00:12<00:00]\n",
              "    </div>\n",
              "    "
            ],
            "text/plain": [
              "<IPython.core.display.HTML object>"
            ]
          },
          "metadata": {}
        },
        {
          "output_type": "display_data",
          "data": {
            "text/html": [
              "\n",
              "    <div>\n",
              "        <style>\n",
              "            /* Turns off some styling */\n",
              "            progress {\n",
              "                /* gets rid of default border in Firefox and Opera. */\n",
              "                border: none;\n",
              "                /* Needs to be in here for Safari polyfill so background images work as expected. */\n",
              "                background-size: auto;\n",
              "            }\n",
              "            .progress-bar-interrupted, .progress-bar-interrupted::-webkit-progress-bar {\n",
              "                background: #F44336;\n",
              "            }\n",
              "        </style>\n",
              "      <progress value='10000' class='' max='10000' style='width:300px; height:20px; vertical-align: middle;'></progress>\n",
              "      100.00% [10000/10000 00:19<00:00]\n",
              "    </div>\n",
              "    "
            ],
            "text/plain": [
              "<IPython.core.display.HTML object>"
            ]
          },
          "metadata": {}
        }
      ]
    },
    {
      "cell_type": "markdown",
      "source": [
        "**Kernel density plots of sample posterior predictions for each model and the BMA model**"
      ],
      "metadata": {
        "id": "qgJnd_Biz4gV"
      }
    },
    {
      "cell_type": "code",
      "source": [
        "models = [pred_main, pred_simple, pred_3, pred_bma]\n",
        "colors = ['b', 'y', 'r', 'g']\n",
        "\n",
        "# Show the kernel density plots for the sample posterior predictions of each of the models and the Bayesian model average.\n",
        "\n",
        "plt.figure(figsize=(20,15))\n",
        "fig, ax=plt.subplots()\n",
        "\n",
        "labels = ['Main Effects', 'Simple (10 variables)', 'Model 3 (4 variables)', 'Bayesian Model Averaging']\n",
        "\n",
        "for i, preds in enumerate(models):\n",
        "  az.plot_kde(preds['Y'].mean(0), plot_kwargs={'color':colors[i]},label=labels[i], ax=ax)\n",
        "\n",
        "plt.show()"
      ],
      "metadata": {
        "colab": {
          "base_uri": "https://localhost:8080/",
          "height": 286
        },
        "id": "ILBeNktoU5ws",
        "outputId": "30a279b7-8873-43ea-b712-a63e59b90cd8"
      },
      "execution_count": null,
      "outputs": [
        {
          "output_type": "display_data",
          "data": {
            "text/plain": [
              "<Figure size 1440x1080 with 0 Axes>"
            ]
          },
          "metadata": {}
        },
        {
          "output_type": "display_data",
          "data": {
            "image/png": "[encoded data removed]",
            "text/plain": [
              "<Figure size 432x288 with 1 Axes>"
            ]
          },
          "metadata": {
            "needs_background": "light"
          }
        }
      ]
    },
    {
      "cell_type": "markdown",
      "source": [
        "**Predicting with Bayesian Logistic Regression**"
      ],
      "metadata": {
        "id": "1a-m-3CIzx-b"
      }
    },
    {
      "cell_type": "code",
      "source": [
        "with cancer_model:\n",
        "    pm.set_data({\"data\": test_X})\n",
        "    post_pred = pm.sample_posterior_predictive(trace_main, samples=1000)"
      ],
      "metadata": {
        "colab": {
          "base_uri": "https://localhost:8080/",
          "height": 92
        },
        "id": "i-js0aQk_A0Q",
        "outputId": "551ec320-8d86-4b14-f536-905d8de2bd4b"
      },
      "execution_count": null,
      "outputs": [
        {
          "output_type": "stream",
          "name": "stderr",
          "text": [
            "/usr/local/lib/python3.7/dist-packages/pymc3/sampling.py:1690: UserWarning: samples parameter is smaller than nchains times ndraws, some draws and/or chains may not be represented in the returned posterior predictive sample\n",
            "  \"samples parameter is smaller than nchains times ndraws, some draws \"\n"
          ]
        },
        {
          "output_type": "display_data",
          "data": {
            "text/html": [
              "\n",
              "    <div>\n",
              "        <style>\n",
              "            /* Turns off some styling */\n",
              "            progress {\n",
              "                /* gets rid of default border in Firefox and Opera. */\n",
              "                border: none;\n",
              "                /* Needs to be in here for Safari polyfill so background images work as expected. */\n",
              "                background-size: auto;\n",
              "            }\n",
              "            .progress-bar-interrupted, .progress-bar-interrupted::-webkit-progress-bar {\n",
              "                background: #F44336;\n",
              "            }\n",
              "        </style>\n",
              "      <progress value='1000' class='' max='1000' style='width:300px; height:20px; vertical-align: middle;'></progress>\n",
              "      100.00% [1000/1000 00:02<00:00]\n",
              "    </div>\n",
              "    "
            ],
            "text/plain": [
              "<IPython.core.display.HTML object>"
            ]
          },
          "metadata": {}
        }
      ]
    },
    {
      "cell_type": "code",
      "source": [
        "p_test_pred = post_pred[\"Y\"].mean(axis=0)\n",
        "y_test_pred = (p_test_pred >= 0.5).astype(\"int\")"
      ],
      "metadata": {
        "id": "xheaG3lCHLHt"
      },
      "execution_count": null,
      "outputs": []
    },
    {
      "cell_type": "markdown",
      "source": [
        "**Full Model: Prediction Results** "
      ],
      "metadata": {
        "id": "kW6CUxpNNYhn"
      }
    },
    {
      "cell_type": "code",
      "source": [
        "from sklearn.metrics import accuracy_score\n",
        "\n",
        "print(f\"accuracy = {accuracy_score(y_true=test_y, y_pred=y_test_pred): 0.3f}\")"
      ],
      "metadata": {
        "colab": {
          "base_uri": "https://localhost:8080/"
        },
        "id": "cuaqkfhdHs1s",
        "outputId": "baee0385-852c-4b63-baad-40d60412041b"
      },
      "execution_count": null,
      "outputs": [
        {
          "output_type": "stream",
          "name": "stdout",
          "text": [
            "accuracy =  0.994\n"
          ]
        }
      ]
    },
    {
      "cell_type": "code",
      "source": [
        "sklearn.metrics.confusion_matrix(test_y,y_test_pred )"
      ],
      "metadata": {
        "colab": {
          "base_uri": "https://localhost:8080/"
        },
        "id": "uAWRYbmzNASr",
        "outputId": "4eb3e24a-ab20-4ea8-9019-745d28e64bd3"
      },
      "execution_count": null,
      "outputs": [
        {
          "output_type": "execute_result",
          "data": {
            "text/plain": [
              "array([[108,   0],\n",
              "       [  1,  62]])"
            ]
          },
          "metadata": {},
          "execution_count": 42
        }
      ]
    },
    {
      "cell_type": "code",
      "source": [
        "test_X2 = test_X[['radius_mean','perimeter_mean','area_mean','smoothness_mean',\n",
        "                   'symmetry_mean', 'fractal_dimension_mean', 'texture_mean', 'concavity_mean', \n",
        "                   'compactness_mean', 'concave points_mean']]"
      ],
      "metadata": {
        "id": "1wvp4gXsPOWM"
      },
      "execution_count": null,
      "outputs": []
    },
    {
      "cell_type": "code",
      "source": [
        "with cancer_simple_model:\n",
        "    pm.set_data({\"data2\": test_X2})\n",
        "    post_pred = pm.sample_posterior_predictive(trace_simple, samples=1000)"
      ],
      "metadata": {
        "colab": {
          "base_uri": "https://localhost:8080/",
          "height": 92
        },
        "id": "nRwMqnjFPs1m",
        "outputId": "afbcec52-96aa-44b2-c63d-4ef4eb3731c3"
      },
      "execution_count": null,
      "outputs": [
        {
          "output_type": "stream",
          "name": "stderr",
          "text": [
            "/usr/local/lib/python3.7/dist-packages/pymc3/sampling.py:1690: UserWarning: samples parameter is smaller than nchains times ndraws, some draws and/or chains may not be represented in the returned posterior predictive sample\n",
            "  \"samples parameter is smaller than nchains times ndraws, some draws \"\n"
          ]
        },
        {
          "output_type": "display_data",
          "data": {
            "text/html": [
              "\n",
              "    <div>\n",
              "        <style>\n",
              "            /* Turns off some styling */\n",
              "            progress {\n",
              "                /* gets rid of default border in Firefox and Opera. */\n",
              "                border: none;\n",
              "                /* Needs to be in here for Safari polyfill so background images work as expected. */\n",
              "                background-size: auto;\n",
              "            }\n",
              "            .progress-bar-interrupted, .progress-bar-interrupted::-webkit-progress-bar {\n",
              "                background: #F44336;\n",
              "            }\n",
              "        </style>\n",
              "      <progress value='1000' class='' max='1000' style='width:300px; height:20px; vertical-align: middle;'></progress>\n",
              "      100.00% [1000/1000 00:02<00:00]\n",
              "    </div>\n",
              "    "
            ],
            "text/plain": [
              "<IPython.core.display.HTML object>"
            ]
          },
          "metadata": {}
        }
      ]
    },
    {
      "cell_type": "code",
      "source": [
        "p_test_pred = post_pred[\"Y\"].mean(axis=0)\n",
        "y_test_pred = (p_test_pred >= 0.5).astype(\"int\")"
      ],
      "metadata": {
        "id": "pOB0kc4xP26e"
      },
      "execution_count": null,
      "outputs": []
    },
    {
      "cell_type": "markdown",
      "source": [
        "**Model 2: Prediction Results**"
      ],
      "metadata": {
        "id": "HyNSEQa7QC4W"
      }
    },
    {
      "cell_type": "code",
      "source": [
        "from sklearn.metrics import accuracy_score\n",
        "\n",
        "print(f\"accuracy = {accuracy_score(y_true=test_y, y_pred=y_test_pred): 0.3f}\")"
      ],
      "metadata": {
        "colab": {
          "base_uri": "https://localhost:8080/"
        },
        "id": "np2FVoeVP9SQ",
        "outputId": "412128db-93ee-4e36-e0d4-63a1f681d58e"
      },
      "execution_count": null,
      "outputs": [
        {
          "output_type": "stream",
          "name": "stdout",
          "text": [
            "accuracy =  0.942\n"
          ]
        }
      ]
    },
    {
      "cell_type": "code",
      "source": [
        "sklearn.metrics.confusion_matrix(test_y,y_test_pred)"
      ],
      "metadata": {
        "colab": {
          "base_uri": "https://localhost:8080/"
        },
        "id": "QrcgWcWERpld",
        "outputId": "ec551384-c725-494a-9d98-20c8133a62cc"
      },
      "execution_count": null,
      "outputs": [
        {
          "output_type": "execute_result",
          "data": {
            "text/plain": [
              "array([[104,   4],\n",
              "       [  6,  57]])"
            ]
          },
          "metadata": {},
          "execution_count": 114
        }
      ]
    },
    {
      "cell_type": "code",
      "source": [
        "test_X3 = test_X[['smoothness_mean','texture_mean','concavity_mean', 'concave points_mean']]"
      ],
      "metadata": {
        "id": "R-YclJ-CYHsG"
      },
      "execution_count": null,
      "outputs": []
    },
    {
      "cell_type": "code",
      "source": [
        "with model3:\n",
        "    pm.set_data({\"data3\": test_X3})\n",
        "    post_pred = pm.sample_posterior_predictive(trace3, samples=1000)"
      ],
      "metadata": {
        "colab": {
          "base_uri": "https://localhost:8080/",
          "height": 92
        },
        "id": "Sptqi0m9YZoT",
        "outputId": "64395474-7bb6-4f4a-804d-5b580ebdcc75"
      },
      "execution_count": null,
      "outputs": [
        {
          "output_type": "stream",
          "name": "stderr",
          "text": [
            "/usr/local/lib/python3.7/dist-packages/pymc3/sampling.py:1690: UserWarning: samples parameter is smaller than nchains times ndraws, some draws and/or chains may not be represented in the returned posterior predictive sample\n",
            "  \"samples parameter is smaller than nchains times ndraws, some draws \"\n"
          ]
        },
        {
          "output_type": "display_data",
          "data": {
            "text/html": [
              "\n",
              "    <div>\n",
              "        <style>\n",
              "            /* Turns off some styling */\n",
              "            progress {\n",
              "                /* gets rid of default border in Firefox and Opera. */\n",
              "                border: none;\n",
              "                /* Needs to be in here for Safari polyfill so background images work as expected. */\n",
              "                background-size: auto;\n",
              "            }\n",
              "            .progress-bar-interrupted, .progress-bar-interrupted::-webkit-progress-bar {\n",
              "                background: #F44336;\n",
              "            }\n",
              "        </style>\n",
              "      <progress value='1000' class='' max='1000' style='width:300px; height:20px; vertical-align: middle;'></progress>\n",
              "      100.00% [1000/1000 00:03<00:00]\n",
              "    </div>\n",
              "    "
            ],
            "text/plain": [
              "<IPython.core.display.HTML object>"
            ]
          },
          "metadata": {}
        }
      ]
    },
    {
      "cell_type": "code",
      "source": [
        "p_test_pred = post_pred[\"Y\"].mean(axis=0)\n",
        "y_test_pred = (p_test_pred >= 0.5).astype(\"int\")"
      ],
      "metadata": {
        "id": "SD_C1z16Yjja"
      },
      "execution_count": null,
      "outputs": []
    },
    {
      "cell_type": "markdown",
      "source": [
        "**Model 3: Prediction Results**"
      ],
      "metadata": {
        "id": "74VBuqL-YdD2"
      }
    },
    {
      "cell_type": "code",
      "source": [
        "from sklearn.metrics import accuracy_score\n",
        "\n",
        "print(f\"accuracy = {accuracy_score(y_true=test_y, y_pred=y_test_pred): 0.3f}\")"
      ],
      "metadata": {
        "colab": {
          "base_uri": "https://localhost:8080/"
        },
        "id": "WS8ebyYwYgE5",
        "outputId": "54f1bb3e-6c49-4fed-f507-a8ed3d40cc29"
      },
      "execution_count": null,
      "outputs": [
        {
          "output_type": "stream",
          "name": "stdout",
          "text": [
            "accuracy =  0.912\n"
          ]
        }
      ]
    },
    {
      "cell_type": "code",
      "source": [
        "sklearn.metrics.confusion_matrix(test_y,y_test_pred)"
      ],
      "metadata": {
        "colab": {
          "base_uri": "https://localhost:8080/"
        },
        "id": "pCuFl_pcYpzZ",
        "outputId": "7de889f6-b14d-4491-d0c4-4b1bcb44131e"
      },
      "execution_count": null,
      "outputs": [
        {
          "output_type": "execute_result",
          "data": {
            "text/plain": [
              "array([[101,   7],\n",
              "       [  8,  55]])"
            ]
          },
          "metadata": {},
          "execution_count": 119
        }
      ]
    },
    {
      "cell_type": "markdown",
      "source": [
        "Classic Logistic Regression"
      ],
      "metadata": {
        "id": "6MfA8eq2SZ2z"
      }
    },
    {
      "cell_type": "code",
      "source": [
        "test_y.shape"
      ],
      "metadata": {
        "colab": {
          "base_uri": "https://localhost:8080/"
        },
        "id": "F2Rw8TbpQn4P",
        "outputId": "e3c34154-eb42-4644-9bb0-ab28a6d10d8d"
      },
      "execution_count": null,
      "outputs": [
        {
          "output_type": "execute_result",
          "data": {
            "text/plain": [
              "(171,)"
            ]
          },
          "metadata": {},
          "execution_count": 61
        }
      ]
    },
    {
      "cell_type": "code",
      "source": [
        "from sklearn.linear_model import LogisticRegression\n",
        "from sklearn import metrics\n",
        "logreg = LogisticRegression()\n",
        "logreg.fit(X, y)"
      ],
      "metadata": {
        "colab": {
          "base_uri": "https://localhost:8080/"
        },
        "id": "qhrul7oxSvvU",
        "outputId": "fce36de3-a4ac-4b23-92f1-147c2357bcaa"
      },
      "execution_count": null,
      "outputs": [
        {
          "output_type": "execute_result",
          "data": {
            "text/plain": [
              "LogisticRegression()"
            ]
          },
          "metadata": {},
          "execution_count": 62
        }
      ]
    },
    {
      "cell_type": "code",
      "source": [
        "y_pred = logreg.predict(test_X)\n",
        "print('Accuracy of logistic regression classifier on test set: {:.2f}'.format(logreg.score(test_X, test_y)))"
      ],
      "metadata": {
        "colab": {
          "base_uri": "https://localhost:8080/"
        },
        "id": "nDZkVHPMS6Fo",
        "outputId": "cf8c1a2d-42ca-48c8-bb1b-d5a642771f47"
      },
      "execution_count": null,
      "outputs": [
        {
          "output_type": "stream",
          "name": "stdout",
          "text": [
            "Accuracy of logistic regression classifier on test set: 0.98\n"
          ]
        }
      ]
    },
    {
      "cell_type": "code",
      "source": [
        "from sklearn.metrics import confusion_matrix\n",
        "confusion_matrix = confusion_matrix(test_y, y_pred)\n",
        "print(confusion_matrix)\n"
      ],
      "metadata": {
        "colab": {
          "base_uri": "https://localhost:8080/"
        },
        "id": "v0DUQS4DTZkF",
        "outputId": "e5ea5009-1d83-4032-f318-b024ab56ce89"
      },
      "execution_count": null,
      "outputs": [
        {
          "output_type": "stream",
          "name": "stdout",
          "text": [
            "[[106   2]\n",
            " [  1  62]]\n"
          ]
        }
      ]
    },
    {
      "cell_type": "code",
      "source": [
        ""
      ],
      "metadata": {
        "id": "cqofxHF_Tceb"
      },
      "execution_count": null,
      "outputs": []
    }
  ]
}